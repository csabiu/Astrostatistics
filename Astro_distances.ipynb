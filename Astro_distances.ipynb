{
  "nbformat": 4,
  "nbformat_minor": 0,
  "metadata": {
    "colab": {
      "provenance": [],
      "authorship_tag": "ABX9TyNk5Mu9FYQMZE2rgl0w0aFn",
      "include_colab_link": true
    },
    "kernelspec": {
      "name": "python3",
      "display_name": "Python 3"
    },
    "language_info": {
      "name": "python"
    }
  },
  "cells": [
    {
      "cell_type": "markdown",
      "metadata": {
        "id": "view-in-github",
        "colab_type": "text"
      },
      "source": [
        "<a href=\"https://colab.research.google.com/github/csabiu/Astrostatistics/blob/main/Astro_distances.ipynb\" target=\"_parent\"><img src=\"https://colab.research.google.com/assets/colab-badge.svg\" alt=\"Open In Colab\"/></a>"
      ]
    },
    {
      "cell_type": "markdown",
      "source": [
        "Install some packages and import them"
      ],
      "metadata": {
        "id": "EsPF0lpuXo97"
      }
    },
    {
      "cell_type": "code",
      "source": [
        "pip install astroquery"
      ],
      "metadata": {
        "id": "QB_r1xjgHL9K"
      },
      "execution_count": null,
      "outputs": []
    },
    {
      "cell_type": "code",
      "execution_count": null,
      "metadata": {
        "id": "f_K7tZ-yHIye"
      },
      "outputs": [],
      "source": [
        "import matplotlib as mpl\n",
        "import matplotlib.pyplot as plt\n",
        "import numpy as np\n",
        "from astropy.coordinates import (SkyCoord, Distance, Galactic,\n",
        "                                 EarthLocation, AltAz)\n",
        "import astropy.coordinates as coord\n",
        "from astropy.time import Time\n",
        "from astropy import units as u\n",
        "from astropy.coordinates import AltAz\n",
        "from astropy.io import fits\n",
        "from astropy.table import QTable\n",
        "from astropy.utils.data import download_file\n",
        "from astroquery.gaia import Gaia\n",
        "Gaia.ROW_LIMIT = 10000  # Set the row limit for returned data"
      ]
    },
    {
      "cell_type": "markdown",
      "source": [
        "Define a target object NGC188 - an open star cluster\n",
        "\n",
        "different ways of defining in astropy"
      ],
      "metadata": {
        "id": "8fv453k4YFTo"
      }
    },
    {
      "cell_type": "code",
      "source": [
        "ngc188_center = SkyCoord.from_name('NGC 188')\n",
        "ngc188_center"
      ],
      "metadata": {
        "id": "cK5pDw6UaLhA"
      },
      "execution_count": null,
      "outputs": []
    },
    {
      "cell_type": "markdown",
      "source": [
        "Lets search the GAIA database for stars with 0.5 degrees of NGC188 center"
      ],
      "metadata": {
        "id": "BMruJ3btx_ng"
      }
    },
    {
      "cell_type": "code",
      "source": [
        "Gaia.ROW_LIMIT = 10000  # Set the row limit for returned data\n",
        "\n",
        "job = Gaia.cone_search_async(ngc188_center, radius=0.5*u.deg)\n",
        "ngc188_table = job.get_results()\n",
        "\n",
        "# only keep stars brighter than G=19 magnitude\n",
        "ngc188_table = ngc188_table[ngc188_table['phot_g_mean_mag'] < 19*u.mag]"
      ],
      "metadata": {
        "id": "GQvqKhnca8iP"
      },
      "execution_count": null,
      "outputs": []
    },
    {
      "cell_type": "code",
      "source": [
        "ngc188_table['DESIGNATION']"
      ],
      "metadata": {
        "id": "MjGvdpUN6DYx"
      },
      "execution_count": null,
      "outputs": []
    },
    {
      "cell_type": "code",
      "source": [
        "ngc188_table.colnames"
      ],
      "metadata": {
        "id": "6fwPQKD3cZhi"
      },
      "execution_count": null,
      "outputs": []
    },
    {
      "cell_type": "code",
      "source": [
        "cols = [\n",
        "    'source_id',\n",
        "    'ra',\n",
        "    'dec',\n",
        "    'parallax',\n",
        "    'parallax_error',\n",
        "    'pmra',\n",
        "    'pmdec',\n",
        "    'radial_velocity',\n",
        "    'phot_g_mean_mag',\n",
        "    'phot_bp_mean_mag',\n",
        "    'phot_rp_mean_mag'\n",
        "]\n",
        "ngc188_table[cols].write('gaia_results.fits', overwrite=True)\n",
        "\n"
      ],
      "metadata": {
        "id": "Snz0akwEcbjH"
      },
      "execution_count": null,
      "outputs": []
    },
    {
      "cell_type": "code",
      "source": [
        "ngc188_table = QTable.read('gaia_results.fits')\n",
        "len(ngc188_table)"
      ],
      "metadata": {
        "id": "iftBHpEzjPhi"
      },
      "execution_count": null,
      "outputs": []
    },
    {
      "cell_type": "markdown",
      "source": [
        "With the table of Gaia data we retrieved above for stars around NGC 188, ngc188_table, we also have parallax measurements for each star. For a precisely-measured parallax ϖ\n",
        ", the distance d to a star can be obtained approximately as d≈1/ϖ. This only really works if the parallax error is small relative to the parallax, so if we want to use these parallaxes to get distances we first have to filter out stars that have low signal-to-noise parallaxes:"
      ],
      "metadata": {
        "id": "AIUQnumjX7BE"
      }
    },
    {
      "cell_type": "code",
      "source": [
        "parallax_snr = ngc188_table['parallax'] / ngc188_table['parallax_error']\n",
        "ngc188_table_3d = ngc188_table[parallax_snr > 10]\n",
        "len(ngc188_table_3d)"
      ],
      "metadata": {
        "id": "AJfIEcbfWs6s"
      },
      "execution_count": null,
      "outputs": []
    },
    {
      "cell_type": "code",
      "source": [
        "parallax=ngc188_table_3d['parallax']#.filled(np.nan)\n",
        "parallax"
      ],
      "metadata": {
        "id": "QWWM8zMmj_bH"
      },
      "execution_count": null,
      "outputs": []
    },
    {
      "cell_type": "markdown",
      "source": [
        "converting parallax angle to distance"
      ],
      "metadata": {
        "id": "yXP8ZHstYK-8"
      }
    },
    {
      "cell_type": "code",
      "source": [
        "Distance(parallax=1*u.mas)"
      ],
      "metadata": {
        "id": "2un_LBv2YOQ6"
      },
      "execution_count": null,
      "outputs": []
    },
    {
      "cell_type": "code",
      "source": [
        "gaia_dist=Distance(parallax=parallax)\n",
        "gaia_dist"
      ],
      "metadata": {
        "id": "WcJNRjYbYPaw"
      },
      "execution_count": null,
      "outputs": []
    },
    {
      "cell_type": "code",
      "source": [
        "ra=ngc188_table_3d['ra']\n",
        "dec=ngc188_table_3d['dec']\n",
        "\n",
        "ngc188_coords_3d = SkyCoord(ra=ngc188_table_3d['ra'],\n",
        "                            dec=ngc188_table_3d['dec'],\n",
        "                            distance=gaia_dist)\n",
        "ngc188_coords_3d\n",
        "\n"
      ],
      "metadata": {
        "id": "8AgoVbXfYhEd"
      },
      "execution_count": null,
      "outputs": []
    },
    {
      "cell_type": "code",
      "source": [
        "fig, ax = plt.subplots(figsize=(6.5, 5.2),\n",
        "                       constrained_layout=True)\n",
        "cs = ax.scatter(ngc188_coords_3d.ra.degree,\n",
        "                ngc188_coords_3d.dec.degree,\n",
        "                c=np.asarray(ngc188_coords_3d.distance.kpc),\n",
        "                s=5, vmin=1.5, vmax=2.5, cmap='twilight')\n",
        "cb = fig.colorbar(cs)\n",
        "cb.set_label(f'distance [{u.kpc:latex_inline}]')\n",
        "\n",
        "ax.set_xlabel('RA [deg]')\n",
        "ax.set_ylabel('Dec [deg]')\n",
        "\n",
        "ax.set_title('Gaia DR2 sources near NGC 188', fontsize=18)\n",
        "\n"
      ],
      "metadata": {
        "id": "LDhSCaPvjRoo"
      },
      "execution_count": null,
      "outputs": []
    },
    {
      "cell_type": "markdown",
      "source": [
        "Lets define the 3D coordinate to the cluster centre and then find the distance of each Gaia star to the NGC188 centre, then replot the above with a shifted distance (colorbar)"
      ],
      "metadata": {
        "id": "R3ECksC0ao6c"
      }
    },
    {
      "cell_type": "code",
      "source": [
        "ngc188_center_3d = SkyCoord(12.11*u.deg, 85.26*u.deg,\n",
        "                            distance=1.96*u.kpc)\n",
        "\n",
        "sep3d = ngc188_coords_3d.separation_3d(ngc188_center_3d)\n",
        "sep3d"
      ],
      "metadata": {
        "id": "j2B8bsHzWrMS"
      },
      "execution_count": null,
      "outputs": []
    },
    {
      "cell_type": "code",
      "source": [
        "\n",
        "fig, ax = plt.subplots(figsize=(6.5, 5.2),\n",
        "                       constrained_layout=True)\n",
        "cs = ax.scatter(ngc188_coords_3d.ra.degree,\n",
        "                ngc188_coords_3d.dec.degree,\n",
        "                c=np.asarray(sep3d.kpc),\n",
        "                s=5, vmin=0.0, vmax=2.0, cmap='gray')\n",
        "cb = fig.colorbar(cs)\n",
        "cb.set_label(f'distance [{u.kpc:latex_inline}]')\n",
        "\n",
        "ax.set_xlabel('RA [deg]')\n",
        "ax.set_ylabel('Dec [deg]')\n",
        "\n",
        "ax.set_title('Gaia DR2 sources near NGC 188', fontsize=18)\n"
      ],
      "metadata": {
        "id": "nWMmaVIRbcIQ"
      },
      "execution_count": null,
      "outputs": []
    },
    {
      "cell_type": "markdown",
      "source": [
        "Lets look to see what other tables are available from GAIA, any Cepheids?"
      ],
      "metadata": {
        "id": "osBD4mtu0nZS"
      }
    },
    {
      "cell_type": "code",
      "source": [
        "from astroquery.gaia import Gaia\n",
        "\n",
        "Gaia.MAIN_GAIA_TABLE = \"gaiaedr3.gaia_source\" # Select early Data Release 3\n",
        "\n",
        "tables = Gaia.load_tables(only_names=False)\n",
        "\n",
        "for table in (tables):\n",
        "  print(table.get_qualified_name())"
      ],
      "metadata": {
        "id": "EA0S1qIS4ZsT"
      },
      "execution_count": null,
      "outputs": []
    },
    {
      "cell_type": "markdown",
      "source": [
        "Lets load the main source table and then look at the information on each source"
      ],
      "metadata": {
        "id": "ckry-UUm069P"
      }
    },
    {
      "cell_type": "code",
      "source": [
        "gaia_table = Gaia.load_table('gaiadr3.gaia_source')\n",
        "print(gaia_table)"
      ],
      "metadata": {
        "id": "pY_4oVyIDbhy"
      },
      "execution_count": null,
      "outputs": []
    },
    {
      "cell_type": "code",
      "source": [
        "for column in gaia_table.columns:\n",
        "  print(column.name)"
      ],
      "metadata": {
        "id": "m7W7O1zVEKUU"
      },
      "execution_count": null,
      "outputs": []
    },
    {
      "cell_type": "markdown",
      "source": [
        "Lets load the Cepheid table and look at its columns"
      ],
      "metadata": {
        "id": "8zkKxbUe1PmC"
      }
    },
    {
      "cell_type": "code",
      "source": [
        "cepheid_table = Gaia.load_table('gaiadr3.vari_cepheid')\n",
        "print(cepheid_table)\n",
        "\n",
        "for column in cepheid_table.columns:\n",
        "  print(column.name)"
      ],
      "metadata": {
        "id": "jUd_s8XRE7JS"
      },
      "execution_count": null,
      "outputs": []
    },
    {
      "cell_type": "markdown",
      "source": [
        "We need to do a bit of SQL to get the right data from the database"
      ],
      "metadata": {
        "id": "ffoDbKcT1bW1"
      }
    },
    {
      "cell_type": "code",
      "source": [
        "job = Gaia.launch_job(\"select source_id, pf, pf_error \"\n",
        "                      \"from gaiadr3.vari_cepheid order by source_id\",\n",
        "                      dump_to_file=True, output_format='votable',)"
      ],
      "metadata": {
        "id": "xIyiW50fvMnE"
      },
      "execution_count": null,
      "outputs": []
    },
    {
      "cell_type": "code",
      "source": [
        "r = job.get_results()\n",
        "print(r['pf'].value)"
      ],
      "metadata": {
        "id": "VeK-0HflvUce"
      },
      "execution_count": null,
      "outputs": []
    },
    {
      "cell_type": "code",
      "source": [
        "Gaia.ROW_LIMIT = 1000000  # Set the row limit for returned data\n",
        "\n",
        "job = Gaia.launch_job(\"SELECT gaia.source_id, gaia.ra, gaia.dec, gaia.parallax, gaia.parallax_error, cepheid.source_id, cepheid.pf, cepheid.pf_error, gaia.phot_g_mean_mag, gaia.phot_g_mean_flux_over_error, gaia.ag_gspphot , cepheid.mode_best_classification  \"\n",
        "                      \"FROM gaiadr3.vari_cepheid AS cepheid \"\n",
        "                      \"JOIN gaiadr3.gaia_source AS gaia ON \"\n",
        "                      \" cepheid.source_id = gaia.source_id \"\n",
        "                      \"WHERE cepheid.pf > 0.01 AND \"\n",
        "                      \" gaia.parallax > 0.00000000001 AND \"\n",
        "                      \" (gaia.parallax/gaia.parallax_error) > 10.0 AND \"\n",
        "                      \" (cepheid.pf/cepheid.pf_error) > 10.0 AND \"\n",
        "                      \" gaia.phot_g_mean_flux_over_error > 10.0 AND \"\n",
        "                      #\" cepheid.type2_best_sub_classification='RV_TAU' AND \"\n",
        "                      \" cepheid.mode_best_classification='FUNDAMENTAL' \",\n",
        "                      dump_to_file=True, output_format='votable',)"
      ],
      "metadata": {
        "id": "IFeVTrJBv7ch"
      },
      "execution_count": null,
      "outputs": []
    },
    {
      "cell_type": "code",
      "source": [
        "r = job.get_results()\n",
        "\n",
        "d=np.asarray(r['parallax'].value)\n",
        "dist=Distance(parallax=d*u.mas).value/1E3\n",
        "p=np.asarray(r['pf'].value)\n",
        "m=np.asarray(r['phot_g_mean_mag'].value)\n",
        "ex=np.asarray(r['ag_gspphot'].value)\n",
        "msk=np.where((dist>3.0) & (dist<=3.5))\n"
      ],
      "metadata": {
        "id": "f60l7BWWyGCz"
      },
      "execution_count": null,
      "outputs": []
    },
    {
      "cell_type": "code",
      "source": [
        "plt.scatter(np.log10(p[msk]),-(m[msk]-ex[msk]))\n",
        "plt.xlabel('log time [days]')\n",
        "plt.ylabel('mag')"
      ],
      "metadata": {
        "id": "45U_UsEMyHVH"
      },
      "execution_count": null,
      "outputs": []
    },
    {
      "cell_type": "code",
      "source": [
        "plt.hist(Distance(parallax=d*u.mas).value/1E3,100,range=(0,100))"
      ],
      "metadata": {
        "id": "VM_4FB6w3vsJ"
      },
      "execution_count": null,
      "outputs": []
    },
    {
      "cell_type": "code",
      "source": [],
      "metadata": {
        "id": "2RdrzuNR4jLH"
      },
      "execution_count": null,
      "outputs": []
    },
    {
      "cell_type": "code",
      "source": [],
      "metadata": {
        "id": "UOgTGFiK6mz1"
      },
      "execution_count": null,
      "outputs": []
    },
    {
      "cell_type": "code",
      "source": [],
      "metadata": {
        "id": "5v3RVM1xh-tc"
      },
      "execution_count": null,
      "outputs": []
    },
    {
      "cell_type": "code",
      "source": [],
      "metadata": {
        "id": "18Gb5V0RiDuW"
      },
      "execution_count": null,
      "outputs": []
    },
    {
      "cell_type": "code",
      "source": [],
      "metadata": {
        "id": "rk8ZRdEOmdV6"
      },
      "execution_count": null,
      "outputs": []
    }
  ]
}