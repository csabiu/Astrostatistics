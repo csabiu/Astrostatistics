{
  "nbformat": 4,
  "nbformat_minor": 0,
  "metadata": {
    "colab": {
      "provenance": [],
      "authorship_tag": "ABX9TyMbeQ1N+WQj+pancUBAaq6t",
      "include_colab_link": true
    },
    "kernelspec": {
      "name": "python3",
      "display_name": "Python 3"
    },
    "language_info": {
      "name": "python"
    }
  },
  "cells": [
    {
      "cell_type": "markdown",
      "metadata": {
        "id": "view-in-github",
        "colab_type": "text"
      },
      "source": [
        "<a href=\"https://colab.research.google.com/github/csabiu/Astrostatistics/blob/main/Nested_Sampling.ipynb\" target=\"_parent\"><img src=\"https://colab.research.google.com/assets/colab-badge.svg\" alt=\"Open In Colab\"/></a>"
      ]
    },
    {
      "cell_type": "markdown",
      "source": [
        "# Install the nested sampler"
      ],
      "metadata": {
        "id": "lbrZVZxMRXN7"
      }
    },
    {
      "cell_type": "code",
      "execution_count": null,
      "metadata": {
        "id": "d2t1gocWMuB_"
      },
      "outputs": [],
      "source": [
        "pip install -U dynesty"
      ]
    },
    {
      "cell_type": "code",
      "source": [
        "import dynesty"
      ],
      "metadata": {
        "id": "Hk5ljgfyMvVL"
      },
      "execution_count": null,
      "outputs": []
    },
    {
      "cell_type": "code",
      "source": [
        "from astropy.cosmology import LambdaCDM, FlatLambdaCDM\n",
        "import numpy as np\n",
        "import matplotlib.pyplot as plt\n",
        "from IPython.display import Math, Latex"
      ],
      "metadata": {
        "id": "bHQ7sG7SMyf0"
      },
      "execution_count": null,
      "outputs": []
    },
    {
      "cell_type": "code",
      "source": [
        "cosmo1=FlatLambdaCDM(H0=70, Om0=0.3)\n",
        "z=np.arange(0.1,1,0.1)\n",
        "da_data=cosmo1.angular_diameter_distance(z).value\n",
        "da_err=0.05*da_data\n",
        "\n",
        "plt.errorbar(z,da_data,yerr=da_err,fmt='.')\n",
        "plt.xlabel('redshift, z')\n",
        "plt.ylabel(r'$D_A$ [Mpc]')"
      ],
      "metadata": {
        "id": "F9_QB9k3M0MU"
      },
      "execution_count": null,
      "outputs": []
    },
    {
      "cell_type": "code",
      "source": [
        "def prior_transform(theta):\n",
        "    \"\"\"\n",
        "    A function defining the tranform between the parameterisation in the unit hypercube\n",
        "    to the true parameters.\n",
        "    Args:\n",
        "        theta (tuple): a tuple containing the parameters.\n",
        "\n",
        "    Returns:\n",
        "        tuple: a new tuple or array with the transformed parameters.\n",
        "    \"\"\"\n",
        "\n",
        "    Om, H0 = theta # unpack the parameters (in their unit hypercube form)\n",
        "\n",
        "    Ommin = 0.1  # lower bound on uniform prior\n",
        "    Ommax = 0.5   # upper bound on uniform prior\n",
        "\n",
        "    H0min = 50.\n",
        "    H0max = 100.\n",
        "\n",
        "    H0 = H0*(H0max-H0min) + H0min  # convert back to real value\n",
        "    Om = Om*(Ommax-Ommin) + Ommin\n",
        "\n",
        "    return (Om, H0)"
      ],
      "metadata": {
        "id": "xxM6aRwjM1jp"
      },
      "execution_count": null,
      "outputs": []
    },
    {
      "cell_type": "code",
      "source": [
        "def loglikelihood_dynesty(theta):\n",
        "    \"\"\"\n",
        "    The log-likelihood function.\n",
        "    \"\"\"\n",
        "\n",
        "    Om, H0 = theta # unpack the parameters\n",
        "\n",
        "    cosmo_Om_p=FlatLambdaCDM(H0=H0, Om0=Om)\n",
        "    da_model_Om_p=cosmo_Om_p.angular_diameter_distance(z).value\n",
        "    chisq=np.sum((da_data-da_model_Om_p)**2/da_err**2)\n",
        "\n",
        "    return -0.5 * chisq"
      ],
      "metadata": {
        "id": "dbr8D-VONrmh"
      },
      "execution_count": null,
      "outputs": []
    },
    {
      "cell_type": "markdown",
      "source": [
        "# Lets run the sampler!"
      ],
      "metadata": {
        "id": "f6_FDFe1RKbI"
      }
    },
    {
      "cell_type": "code",
      "source": [
        "nlive = 100      # number of live points\n",
        "bound = 'single'   # use MutliNest algorithm for bounds\n",
        "ndims = 2         # two parameters\n",
        "sample = 'unif'   # uniform sampling\n",
        "tol = 0.1         # the stopping criterion\n",
        "\n",
        "from dynesty import NestedSampler\n",
        "\n",
        "sampler = NestedSampler(loglikelihood_dynesty, prior_transform, ndims,\n",
        "                        bound=bound, sample=sample, nlive=nlive)\n",
        "\n",
        "sampler.run_nested(dlogz=tol, print_progress=True) # don't output progress bar\n",
        "\n",
        "\n"
      ],
      "metadata": {
        "id": "pcM-H1RmOH4p"
      },
      "execution_count": null,
      "outputs": []
    },
    {
      "cell_type": "markdown",
      "source": [
        "# Lets get the evidence!"
      ],
      "metadata": {
        "id": "q3Ln1xfdQ8Fr"
      }
    },
    {
      "cell_type": "code",
      "source": [
        "res = sampler.results # get results dictionary from sampler\n",
        "\n",
        "logZdynesty = res.logz[-1]        # value of logZ\n",
        "logZerrdynesty = res.logzerr[-1]  # estimate of the statistcal uncertainty on logZ\n",
        "\n",
        "print(\"log(Z) = {} ± {}\".format(logZdynesty, logZerrdynesty))"
      ],
      "metadata": {
        "id": "i-E86oiNOWYt"
      },
      "execution_count": null,
      "outputs": []
    },
    {
      "cell_type": "code",
      "source": [
        "plt.scatter(res.samples[:,0],res.samples[:,1])"
      ],
      "metadata": {
        "id": "ZWsyf26AOkkF"
      },
      "execution_count": null,
      "outputs": []
    },
    {
      "cell_type": "markdown",
      "source": [
        "# Lets draw 2D contours as before"
      ],
      "metadata": {
        "id": "27YrYsYoQIqi"
      }
    },
    {
      "cell_type": "code",
      "source": [
        "# get function that resamples from the nested samples to give sampler with equal weight\n",
        "from dynesty.utils import resample_equal\n",
        "\n",
        "# draw posterior samples\n",
        "weights = np.exp(res['logwt'] - res['logz'][-1])\n",
        "samples_dynesty = resample_equal(res.samples, weights)"
      ],
      "metadata": {
        "id": "FuJuwbRHOsoN"
      },
      "execution_count": null,
      "outputs": []
    },
    {
      "cell_type": "code",
      "source": [
        "pip install corner"
      ],
      "metadata": {
        "id": "K07kDeqjPjnD"
      },
      "execution_count": null,
      "outputs": []
    },
    {
      "cell_type": "code",
      "source": [
        "import corner\n",
        "\n",
        "fig = corner.corner(\n",
        "    samples_dynesty, labels=['$\\Omega_M$','$H_0$'], truths=[0.3,70.], smooth=1.,\n",
        ");"
      ],
      "metadata": {
        "id": "Z7lrklWvPsSt"
      },
      "execution_count": null,
      "outputs": []
    },
    {
      "cell_type": "markdown",
      "source": [
        "# Lets print or marginalised 1D results with errorbars"
      ],
      "metadata": {
        "id": "SAXQKg51QxEj"
      }
    },
    {
      "cell_type": "code",
      "source": [
        "from IPython.display import display, Math\n",
        "labelss=['\\Omega_M','H_0']\n",
        "for i in range(2):\n",
        "    mcmc = np.percentile(samples_dynesty[:, i], [16, 50, 84])\n",
        "    q = np.diff(mcmc)\n",
        "    txt = \"\\mathrm{{{3}}} = {0:.3f}_{{-{1:.3f}}}^{{{2:.3f}}}\"\n",
        "    txt = txt.format(mcmc[1], q[0], q[1], labelss[i])\n",
        "    display(Math(txt))"
      ],
      "metadata": {
        "id": "vgo_KYGSP84Q"
      },
      "execution_count": null,
      "outputs": []
    },
    {
      "cell_type": "code",
      "source": [],
      "metadata": {
        "id": "GhHq1HJ2QiXw"
      },
      "execution_count": null,
      "outputs": []
    },
    {
      "cell_type": "code",
      "source": [],
      "metadata": {
        "id": "zfnYc8FDQlQf"
      },
      "execution_count": null,
      "outputs": []
    }
  ]
}