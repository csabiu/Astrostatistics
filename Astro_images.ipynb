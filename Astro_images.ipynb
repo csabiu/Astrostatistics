{
  "nbformat": 4,
  "nbformat_minor": 0,
  "metadata": {
    "colab": {
      "provenance": [],
      "authorship_tag": "ABX9TyMeBAeU5huxJ3RihXPAbUP4",
      "include_colab_link": true
    },
    "kernelspec": {
      "name": "python3",
      "display_name": "Python 3"
    },
    "language_info": {
      "name": "python"
    }
  },
  "cells": [
    {
      "cell_type": "markdown",
      "metadata": {
        "id": "view-in-github",
        "colab_type": "text"
      },
      "source": [
        "<a href=\"https://colab.research.google.com/github/csabiu/Astrostatistics/blob/main/Astro_images.ipynb\" target=\"_parent\"><img src=\"https://colab.research.google.com/assets/colab-badge.svg\" alt=\"Open In Colab\"/></a>"
      ]
    },
    {
      "cell_type": "code",
      "source": [
        "pip install astroquery"
      ],
      "metadata": {
        "id": "fnLH-yL4I_6A"
      },
      "execution_count": null,
      "outputs": []
    },
    {
      "cell_type": "markdown",
      "source": [
        "Load some useful libraries"
      ],
      "metadata": {
        "id": "Ymq6KeGrr0YH"
      }
    },
    {
      "cell_type": "code",
      "source": [
        "from astropy import coordinates as coords\n",
        "from astroquery.sdss import SDSS\n",
        "import matplotlib.pyplot as plt\n",
        "import numpy as np"
      ],
      "metadata": {
        "id": "VJLVUtPpgOtl"
      },
      "execution_count": null,
      "outputs": []
    },
    {
      "cell_type": "markdown",
      "source": [
        "Choose a sky position and query the SDSS imaging"
      ],
      "metadata": {
        "id": "0yQwlcNCr3gn"
      }
    },
    {
      "cell_type": "code",
      "source": [
        "co = coords.SkyCoord('0h8m05.63s +24d50m23.3s')\n",
        "\n",
        "result = SDSS.query_region(co,radius='20\"')\n",
        "\n",
        "imgs = SDSS.get_images(matches=result)"
      ],
      "metadata": {
        "id": "KNIOiMzaI4yN"
      },
      "execution_count": null,
      "outputs": []
    },
    {
      "cell_type": "markdown",
      "source": [
        "Lets look at the structure of the fits file"
      ],
      "metadata": {
        "id": "cFuE6ph9ru5d"
      }
    },
    {
      "cell_type": "code",
      "source": [
        "imgs[1][0].header"
      ],
      "metadata": {
        "id": "0QFZMs-WJI8b"
      },
      "execution_count": null,
      "outputs": []
    },
    {
      "cell_type": "markdown",
      "source": [
        "Lets plot one image"
      ],
      "metadata": {
        "id": "r6ts2GXssAsk"
      }
    },
    {
      "cell_type": "code",
      "source": [
        "from matplotlib.colors import LogNorm\n",
        "\n",
        "plt.imshow(imgs[3][0].data+.1,cmap='gray',norm=LogNorm())"
      ],
      "metadata": {
        "id": "BiDdh8iygoD0"
      },
      "execution_count": null,
      "outputs": []
    },
    {
      "cell_type": "markdown",
      "source": [
        "How do we work with sky coordinates in an MxN pixel space?\n",
        "\n",
        "Use WCS information from the fits file header!"
      ],
      "metadata": {
        "id": "wkc0bwcZsJDM"
      }
    },
    {
      "cell_type": "code",
      "source": [
        "from astropy.wcs import WCS\n",
        "\n",
        "img=imgs[0][0]\n",
        "\n",
        "wcs = WCS(img.header,)\n",
        "\n",
        "plt.subplot(projection=wcs,)\n",
        "plt.imshow(img.data+.1, origin='lower',cmap='gray',norm=LogNorm())\n",
        "plt.grid(color='white', ls='solid')\n",
        "plt.xlabel('RA')\n",
        "plt.ylabel('dec')\n"
      ],
      "metadata": {
        "id": "svaeZbbchdxv"
      },
      "execution_count": null,
      "outputs": []
    },
    {
      "cell_type": "markdown",
      "source": [
        "Search for SDSS images of an open star cluster\n",
        "\n",
        "Hint: most of SDSS images are in the North Galactic Hemisphere"
      ],
      "metadata": {
        "id": "PpykxeKtrVSs"
      }
    },
    {
      "cell_type": "code",
      "source": [],
      "metadata": {
        "id": "X4z_vvlcq2_D"
      },
      "execution_count": null,
      "outputs": []
    }
  ]
}