{
  "nbformat": 4,
  "nbformat_minor": 0,
  "metadata": {
    "colab": {
      "provenance": [],
      "authorship_tag": "ABX9TyOBcfyRSXNkvU/xV18mdGX1",
      "include_colab_link": true
    },
    "kernelspec": {
      "name": "python3",
      "display_name": "Python 3"
    },
    "language_info": {
      "name": "python"
    }
  },
  "cells": [
    {
      "cell_type": "markdown",
      "metadata": {
        "id": "view-in-github",
        "colab_type": "text"
      },
      "source": [
        "<a href=\"https://colab.research.google.com/github/csabiu/Astrostatistics/blob/main/Fisher_Matrix.ipynb\" target=\"_parent\"><img src=\"https://colab.research.google.com/assets/colab-badge.svg\" alt=\"Open In Colab\"/></a>"
      ]
    },
    {
      "cell_type": "code",
      "execution_count": 82,
      "metadata": {
        "id": "TZT5ICRn0F3P"
      },
      "outputs": [],
      "source": [
        "from astropy.cosmology import LambdaCDM, FlatLambdaCDM\n",
        "import numpy as np\n",
        "import matplotlib.pyplot as plt\n",
        "from IPython.display import Math, Latex"
      ]
    },
    {
      "cell_type": "code",
      "source": [
        "cosmo1=FlatLambdaCDM(H0=70, Om0=0.3)\n",
        "cosmo2=LambdaCDM(H0=70, Om0=0.3,Ode0=0.6)\n",
        "cosmo1.is_equivalent(cosmo2)"
      ],
      "metadata": {
        "colab": {
          "base_uri": "https://localhost:8080/"
        },
        "id": "jH5rYTuo0Ic1",
        "outputId": "d4e8fbae-67f8-4dbd-b9b3-2312cd351d53"
      },
      "execution_count": 14,
      "outputs": [
        {
          "output_type": "execute_result",
          "data": {
            "text/plain": [
              "False"
            ]
          },
          "metadata": {},
          "execution_count": 14
        }
      ]
    },
    {
      "cell_type": "code",
      "source": [
        "z=np.arange(0.1,1,0.1)\n",
        "da_data=cosmo1.angular_diameter_distance(z).value\n",
        "da_err=0.05*da_data\n",
        "\n",
        "plt.errorbar(z,da_data,yerr=da_err,fmt='.')\n",
        "plt.xlabel('redshift, z')\n",
        "plt.ylabel(r'$D_A$ [Mpc]')"
      ],
      "metadata": {
        "colab": {
          "base_uri": "https://localhost:8080/",
          "height": 467
        },
        "id": "KS2ddoDy1Syw",
        "outputId": "95d9a6df-eb65-4bad-af16-97771757d538"
      },
      "execution_count": 108,
      "outputs": [
        {
          "output_type": "execute_result",
          "data": {
            "text/plain": [
              "Text(0, 0.5, '$D_A$ [Mpc]')"
            ]
          },
          "metadata": {},
          "execution_count": 108
        },
        {
          "output_type": "display_data",
          "data": {
            "text/plain": [
              "<Figure size 640x480 with 1 Axes>"
            ],
            "image/png": "[encoded data removed]"
          },
          "metadata": {}
        }
      ]
    },
    {
      "cell_type": "code",
      "source": [
        "da_model=cosmo1.angular_diameter_distance(z).value\n",
        "chi2=np.sum((da_data-da_model)**2/da_err**2)"
      ],
      "metadata": {
        "id": "-5ibdAqf1iHd"
      },
      "execution_count": 109,
      "outputs": []
    },
    {
      "cell_type": "markdown",
      "source": [
        "Lets do a 1-D examination of $\\Omega_m$ constraints from the $D_A$ data\n",
        "\n",
        "Need to compute: $\\frac{\\partial^2\\ell}{\\partial\\theta^2}$"
      ],
      "metadata": {
        "id": "a-1GyKO089kN"
      }
    },
    {
      "cell_type": "code",
      "source": [
        "dOm=0.01 # small delta change in parameter to compute numerical derivatives\n",
        "\n",
        "cosmo_Om_p=FlatLambdaCDM(H0=70, Om0=0.3+dOm)\n",
        "da_model_Om_p=cosmo_Om_p.angular_diameter_distance(z).value\n",
        "chi2_Om_p=np.sum((da_data-da_model_Om_p)**2/da_err**2)\n",
        "\n",
        "cosmo_Om_m=FlatLambdaCDM(H0=70, Om0=0.3-dOm)\n",
        "da_model_Om_m=cosmo_Om_m.angular_diameter_distance(z).value\n",
        "chi2_Om_m=np.sum((da_data-da_model_Om_m)**2/da_err**2)\n"
      ],
      "metadata": {
        "id": "U9qGmOjD4Pgb"
      },
      "execution_count": 111,
      "outputs": []
    },
    {
      "cell_type": "markdown",
      "source": [
        "Compute 2nd derivative using central finite difference formulae"
      ],
      "metadata": {
        "id": "8790TgU99Zcz"
      }
    },
    {
      "cell_type": "code",
      "source": [
        "dl2=(chi2_Om_p-2*chi2+chi2_Om_m)/dOm**2\n",
        "\n",
        "display(Latex(r'\\frac{\\partial^2\\ell}{\\partial\\Omega_M^2}='),dl2)"
      ],
      "metadata": {
        "colab": {
          "base_uri": "https://localhost:8080/",
          "height": 63
        },
        "id": "TLJlpsbc71O2",
        "outputId": "9c334ce7-fac4-4a7c-dd21-9a0296800e25"
      },
      "execution_count": 112,
      "outputs": [
        {
          "output_type": "display_data",
          "data": {
            "text/plain": [
              "<IPython.core.display.Latex object>"
            ],
            "text/latex": "\\frac{\\partial^2\\ell}{\\partial\\Omega_M^2}="
          },
          "metadata": {}
        },
        {
          "output_type": "display_data",
          "data": {
            "text/plain": [
              "969.1380141631845"
            ]
          },
          "metadata": {}
        }
      ]
    },
    {
      "cell_type": "code",
      "source": [
        "display(Latex(r'\\sigma_{\\Omega_M}='),1/np.sqrt(dl2))"
      ],
      "metadata": {
        "colab": {
          "base_uri": "https://localhost:8080/",
          "height": 57
        },
        "id": "dYojDzla8LBR",
        "outputId": "415f212f-fcec-47dc-b2b7-b197dc51b875"
      },
      "execution_count": 113,
      "outputs": [
        {
          "output_type": "display_data",
          "data": {
            "text/plain": [
              "<IPython.core.display.Latex object>"
            ],
            "text/latex": "\\sigma_{\\Omega_M}="
          },
          "metadata": {}
        },
        {
          "output_type": "display_data",
          "data": {
            "text/plain": [
              "0.03212234080751068"
            ]
          },
          "metadata": {}
        }
      ]
    },
    {
      "cell_type": "markdown",
      "source": [
        "## Q. How does this improve if you have more observations of $D_A$? Try either more observations between 0<z<1 or over a larger redshift range."
      ],
      "metadata": {
        "id": "p9hMR77iAkXf"
      }
    },
    {
      "cell_type": "code",
      "source": [],
      "metadata": {
        "id": "vz3vB54HAjak"
      },
      "execution_count": null,
      "outputs": []
    },
    {
      "cell_type": "markdown",
      "source": [
        "Ok, lets go to the 2-D case and investigate $H_0$ and $\\Omega_M$"
      ],
      "metadata": {
        "id": "LPBeSLpWBJIm"
      }
    },
    {
      "cell_type": "code",
      "source": [
        "dOm=0.01 # small delta change in parameter to compute numerical derivatives\n",
        "dH=1\n",
        "\n",
        "cosmo=FlatLambdaCDM(H0=70+dH, Om0=0.3+dOm)\n",
        "da_model=cosmo.angular_diameter_distance(z).value\n",
        "chi2_p_p=np.sum((da_data-da_model)**2/da_err**2)\n",
        "\n",
        "cosmo=FlatLambdaCDM(H0=70-dH, Om0=0.3+dOm)\n",
        "da_model=cosmo.angular_diameter_distance(z).value\n",
        "chi2_m_p=np.sum((da_data-da_model)**2/da_err**2)\n",
        "\n",
        "cosmo=FlatLambdaCDM(H0=70+dH, Om0=0.3-dOm)\n",
        "da_model=cosmo.angular_diameter_distance(z).value\n",
        "chi2_p_m=np.sum((da_data-da_model)**2/da_err**2)\n",
        "\n",
        "cosmo=FlatLambdaCDM(H0=70-dH, Om0=0.3-dOm)\n",
        "da_model=cosmo.angular_diameter_distance(z).value\n",
        "chi2_m_m=np.sum((da_data-da_model)**2/da_err**2)\n",
        "\n",
        "dl2_dOmdH = (chi2_m_m+ chi2_p_p- chi2_p_m - chi2_m_p)/(4*dOm*dH)\n",
        "display(Latex(r'\\frac{\\partial^2\\ell}{\\partial\\Omega_M\\partial H_0}='),dl2_dOmdH)"
      ],
      "metadata": {
        "colab": {
          "base_uri": "https://localhost:8080/",
          "height": 60
        },
        "id": "O5uNVHyF_mL4",
        "outputId": "06c67c47-122b-436c-ad97-ad57454b56d9"
      },
      "execution_count": 114,
      "outputs": [
        {
          "output_type": "display_data",
          "data": {
            "text/plain": [
              "<IPython.core.display.Latex object>"
            ],
            "text/latex": "\\frac{\\partial^2\\ell}{\\partial\\Omega_M\\partial H_0}="
          },
          "metadata": {}
        },
        {
          "output_type": "display_data",
          "data": {
            "text/plain": [
              "34.22928688057407"
            ]
          },
          "metadata": {}
        }
      ]
    },
    {
      "cell_type": "code",
      "source": [
        "cosmo=FlatLambdaCDM(H0=70, Om0=0.3)\n",
        "da_model=cosmo.angular_diameter_distance(z).value\n",
        "chi2_0=np.sum((da_data-da_model)**2/da_err**2)\n",
        "\n",
        "cosmo=FlatLambdaCDM(H0=70+dH, Om0=0.3)\n",
        "da_model=cosmo.angular_diameter_distance(z).value\n",
        "chi2_p=np.sum((da_data-da_model)**2/da_err**2)\n",
        "\n",
        "cosmo=FlatLambdaCDM(H0=70-dH, Om0=0.3)\n",
        "da_model=cosmo.angular_diameter_distance(z).value\n",
        "chi2_m=np.sum((da_data-da_model)**2/da_err**2)\n",
        "\n",
        "dl2_dH2=(chi2_p-2*chi2_0+chi2_m)/dH**2\n",
        "display(Latex(r'\\frac{\\partial^2\\ell}{\\partial H_0^2}='),dl2_dH2)"
      ],
      "metadata": {
        "colab": {
          "base_uri": "https://localhost:8080/",
          "height": 63
        },
        "id": "6IJgu-RtCL0d",
        "outputId": "6f2d0653-23e9-4b5d-8e4d-bc841f700758"
      },
      "execution_count": 115,
      "outputs": [
        {
          "output_type": "display_data",
          "data": {
            "text/plain": [
              "<IPython.core.display.Latex object>"
            ],
            "text/latex": "\\frac{\\partial^2\\ell}{\\partial H_0^2}="
          },
          "metadata": {}
        },
        {
          "output_type": "display_data",
          "data": {
            "text/plain": [
              "1.4702876863406182"
            ]
          },
          "metadata": {}
        }
      ]
    },
    {
      "cell_type": "code",
      "source": [
        "A=np.zeros((2,2))\n",
        "\n",
        "A[0,0] = dl2\n",
        "A[1,1] = dl2_dH2\n",
        "A[1,0] = A[0,1] = dl2_dOmdH\n",
        "A"
      ],
      "metadata": {
        "colab": {
          "base_uri": "https://localhost:8080/"
        },
        "id": "Zm8Vl558FHr7",
        "outputId": "3fc3dc7f-d021-44a7-b8db-da1da368d790"
      },
      "execution_count": 144,
      "outputs": [
        {
          "output_type": "execute_result",
          "data": {
            "text/plain": [
              "array([[969.13801416,  34.22928688],\n",
              "       [ 34.22928688,   1.47028769]])"
            ]
          },
          "metadata": {},
          "execution_count": 144
        }
      ]
    },
    {
      "cell_type": "code",
      "source": [
        "from scipy.stats import multivariate_normal\n",
        "\n",
        "\n",
        "plt.style.use('seaborn-dark')\n",
        "plt.rcParams['figure.figsize']=10,6\n",
        "fig = plt.figure()\n",
        "\n",
        "# Initializing the random seed\n",
        "random_seed=1000\n",
        "\n",
        "# List containing the variance\n",
        "# covariance values\n",
        "#cov_val = [-0.8, 0, 0.8]\n",
        "\n",
        "# Setting mean of the distributino\n",
        "# to be at (0,0)\n",
        "mean = np.array([0.3,70.])\n",
        "\n",
        "# Storing density function values for\n",
        "# further analysis\n",
        "pdf_list = []\n",
        "\n",
        "\n",
        "\n",
        "B=np.linalg.pinv(A)\n",
        "\n",
        "# Generating a Gaussian bivariate distribution\n",
        "# with given mean and covariance matrix\n",
        "distr = multivariate_normal(cov = B, mean = mean,\n",
        "                            seed = random_seed)\n",
        "\n",
        "# Generating a meshgrid complacent with\n",
        "# the 3-sigma boundary\n",
        "\n",
        "mean_1, mean_2 = mean[0], mean[1]\n",
        "sigma_1, sigma_2 = B[0,0], B[1,1]\n",
        "\n",
        "x = np.linspace(mean_1-20*sigma_1, mean_1+20*sigma_1, num=100)\n",
        "y = np.linspace(mean_2-1*sigma_2, mean_2+1*sigma_2, num=100)\n",
        "X, Y = np.meshgrid(x,y)\n",
        "\n",
        "# Generating the density function\n",
        "# for each point in the meshgrid\n",
        "pdf = np.zeros(X.shape)\n",
        "for i in range(X.shape[0]):\n",
        "    for j in range(X.shape[1]):\n",
        "        pdf[i,j] = distr.pdf([X[i,j], Y[i,j]])\n",
        "\n",
        "# Plotting the density function values\n",
        "#key = 131+idx\n",
        "#ax = fig.add_subplot(key, projection = '3d')\n",
        "#plate_scale.plot_surface(X, Y, pdf, cmap = 'viridis')\n",
        "#plt.xlabel(\"x1\")\n",
        "#plt.ylabel(\"x2\")\n",
        "#plt.title(f'Covariance between x1 and x2 = {val}')\n",
        "#pdf_list.append(pdf)\n",
        "#ax.axes.zaxis.set_ticks([])\n",
        "\n",
        "#plt.tight_layout()\n",
        "#plt.show()\n",
        "\n",
        "# Plotting contour plots\n",
        "#for idx, val in enumerate(pdf_list):\n",
        "#plt.subplot(1,3,idx+1)\n",
        "plt.contourf(X, Y, pdf, cmap='viridis')\n",
        "plt.xlabel(\"x1\")\n",
        "plt.ylabel(\"x2\")\n",
        "#plt.title(f'Covariance between x1 and x2 = {cov_val[idx]}')\n",
        "plt.tight_layout()\n",
        "plt.show()"
      ],
      "metadata": {
        "colab": {
          "base_uri": "https://localhost:8080/",
          "height": 664
        },
        "id": "D9e7VJF7FpVX",
        "outputId": "643de827-0025-4134-8862-44c18ad79b13"
      },
      "execution_count": 161,
      "outputs": [
        {
          "output_type": "stream",
          "name": "stderr",
          "text": [
            "<ipython-input-161-fed80af91baf>:4: MatplotlibDeprecationWarning: The seaborn styles shipped by Matplotlib are deprecated since 3.6, as they no longer correspond to the styles shipped by seaborn. However, they will remain available as 'seaborn-v0_8-<style>'. Alternatively, directly use the seaborn API instead.\n",
            "  plt.style.use('seaborn-dark')\n"
          ]
        },
        {
          "output_type": "display_data",
          "data": {
            "text/plain": [
              "<Figure size 1000x600 with 1 Axes>"
            ],
            "image/png": "[encoded data removed]"
          },
          "metadata": {}
        }
      ]
    },
    {
      "cell_type": "code",
      "source": [
        "distr.pdf((0.3,70))"
      ],
      "metadata": {
        "colab": {
          "base_uri": "https://localhost:8080/"
        },
        "id": "SLarNgKhIX_o",
        "outputId": "78383bc0-3da9-460d-93f7-87e95d4f3538"
      },
      "execution_count": 137,
      "outputs": [
        {
          "output_type": "execute_result",
          "data": {
            "text/plain": [
              "0.010000697871246274"
            ]
          },
          "metadata": {},
          "execution_count": 137
        }
      ]
    },
    {
      "cell_type": "code",
      "source": [
        "sigma_2"
      ],
      "metadata": {
        "colab": {
          "base_uri": "https://localhost:8080/"
        },
        "id": "FmX_00P0J8wN",
        "outputId": "f1269e24-b914-4dce-edf7-e915e81759b3"
      },
      "execution_count": 141,
      "outputs": [
        {
          "output_type": "execute_result",
          "data": {
            "text/plain": [
              "1.4702876863406182"
            ]
          },
          "metadata": {},
          "execution_count": 141
        }
      ]
    },
    {
      "cell_type": "code",
      "source": [
        "p=np.random.multivariate_normal([0.3,70.0], np.linalg.pinv(A), 1000)"
      ],
      "metadata": {
        "id": "0GfN63HtLyIp"
      },
      "execution_count": 155,
      "outputs": []
    },
    {
      "cell_type": "code",
      "source": [
        "plt.plot(p[:,0],p[:,1],'.')"
      ],
      "metadata": {
        "colab": {
          "base_uri": "https://localhost:8080/",
          "height": 537
        },
        "id": "xF_et7s6Ndi2",
        "outputId": "411c4fe3-449f-45b1-974e-2e7ed770f66d"
      },
      "execution_count": 156,
      "outputs": [
        {
          "output_type": "execute_result",
          "data": {
            "text/plain": [
              "[<matplotlib.lines.Line2D at 0x7d7432740e80>]"
            ]
          },
          "metadata": {},
          "execution_count": 156
        },
        {
          "output_type": "display_data",
          "data": {
            "text/plain": [
              "<Figure size 1400x600 with 1 Axes>"
            ],
            "image/png": "[encoded data removed]"
          },
          "metadata": {}
        }
      ]
    },
    {
      "cell_type": "code",
      "source": [],
      "metadata": {
        "id": "_n4HjCNoNjtD"
      },
      "execution_count": null,
      "outputs": []
    }
  ]
}