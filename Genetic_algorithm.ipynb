{
  "nbformat": 4,
  "nbformat_minor": 0,
  "metadata": {
    "colab": {
      "provenance": [],
      "authorship_tag": "ABX9TyOwrMiDLkh+8ZCmnzs9MJAB",
      "include_colab_link": true
    },
    "kernelspec": {
      "name": "python3",
      "display_name": "Python 3"
    },
    "language_info": {
      "name": "python"
    }
  },
  "cells": [
    {
      "cell_type": "markdown",
      "metadata": {
        "id": "view-in-github",
        "colab_type": "text"
      },
      "source": [
        "<a href=\"https://colab.research.google.com/github/csabiu/Astrostatistics/blob/main/Genetic_algorithm.ipynb\" target=\"_parent\"><img src=\"https://colab.research.google.com/assets/colab-badge.svg\" alt=\"Open In Colab\"/></a>"
      ]
    },
    {
      "cell_type": "code",
      "execution_count": 43,
      "metadata": {
        "id": "U9mcE5ts8yNy"
      },
      "outputs": [],
      "source": [
        "from scipy.optimize import differential_evolution, Bounds"
      ]
    },
    {
      "cell_type": "code",
      "source": [
        "from astropy.cosmology import LambdaCDM, FlatLambdaCDM\n",
        "import numpy as np\n",
        "import matplotlib.pyplot as plt\n",
        "from IPython.display import Math, Latex"
      ],
      "metadata": {
        "id": "n9KFXNBC82ix"
      },
      "execution_count": 2,
      "outputs": []
    },
    {
      "cell_type": "code",
      "source": [
        "cosmo1=FlatLambdaCDM(H0=70, Om0=0.3)\n",
        "z=np.arange(0.1,1,0.1)\n",
        "da_data=cosmo1.angular_diameter_distance(z).value\n",
        "da_err=0.05*da_data\n",
        "\n",
        "plt.errorbar(z,da_data,yerr=da_err,fmt='.')\n",
        "plt.xlabel('redshift, z')\n",
        "plt.ylabel(r'$D_A$ [Mpc]')\n",
        "\n",
        "global da_err, da_data"
      ],
      "metadata": {
        "colab": {
          "base_uri": "https://localhost:8080/",
          "height": 449
        },
        "id": "N3we1FTb86to",
        "outputId": "e8b0e725-085a-4c1c-8c94-8bfa987b10f6"
      },
      "execution_count": 12,
      "outputs": [
        {
          "output_type": "display_data",
          "data": {
            "text/plain": [
              "<Figure size 640x480 with 1 Axes>"
            ],
            "image/png": "[encoded data removed]"
          },
          "metadata": {}
        }
      ]
    },
    {
      "cell_type": "code",
      "source": [
        "def fitness(x):\n",
        "    \"\"\"\n",
        "    Using chi2 as a fitness measure\n",
        "    \"\"\"\n",
        "    Om = x[0]\n",
        "    H0 = x[1] # unpack the parameters\n",
        "\n",
        "    cosmo_Om_p=FlatLambdaCDM(H0=H0, Om0=Om)\n",
        "    da_model_Om_p=cosmo_Om_p.angular_diameter_distance(z).value\n",
        "    chisq=np.sum((da_data-da_model_Om_p)**2/da_err**2)\n",
        "\n",
        "    return chisq"
      ],
      "metadata": {
        "id": "BlYgpJAB88Oi"
      },
      "execution_count": 19,
      "outputs": []
    },
    {
      "cell_type": "code",
      "source": [
        "bounds = Bounds([0.1, 0.5], [50., 100.])"
      ],
      "metadata": {
        "id": "2xGzV4ZV9VeL"
      },
      "execution_count": 6,
      "outputs": []
    },
    {
      "cell_type": "code",
      "source": [
        "result = differential_evolution(fitness, bounds,  popsize=20, mutation=0.2,recombination=0.4)"
      ],
      "metadata": {
        "colab": {
          "base_uri": "https://localhost:8080/"
        },
        "id": "LG_vg4199bH6",
        "outputId": "b7452aae-6c19-4f7b-9d7d-178da78296a8"
      },
      "execution_count": 23,
      "outputs": [
        {
          "output_type": "stream",
          "name": "stderr",
          "text": [
            "/usr/local/lib/python3.10/dist-packages/scipy/optimize/_differentialevolution.py:1165: ComplexWarning: Casting complex values to real discards the imaginary part\n",
            "  energies[0:S] = calc_energies\n",
            "/usr/local/lib/python3.10/dist-packages/scipy/optimize/_differentialevolution.py:1418: ComplexWarning: Casting complex values to real discards the imaginary part\n",
            "  self.population_energies[candidate] = np.squeeze(energy)\n"
          ]
        }
      ]
    },
    {
      "cell_type": "code",
      "source": [
        "from IPython.display import display, Math\n",
        "labelss=['\\Omega_M','H_0']\n",
        "for i in range(2):\n",
        "    txt = \"\\mathrm{{{0}}} = {1:.3f}\"\n",
        "    txt = txt.format(labelss[i], result.x[i])\n",
        "    display(Math(txt))"
      ],
      "metadata": {
        "colab": {
          "base_uri": "https://localhost:8080/",
          "height": 58
        },
        "id": "wbSFxfib9hxC",
        "outputId": "bc760077-e0b0-403c-cb8f-02a040ed947a"
      },
      "execution_count": 42,
      "outputs": [
        {
          "output_type": "display_data",
          "data": {
            "text/plain": [
              "<IPython.core.display.Math object>"
            ],
            "text/latex": "$\\displaystyle \\mathrm{\\Omega_M} = 0.300$"
          },
          "metadata": {}
        },
        {
          "output_type": "display_data",
          "data": {
            "text/plain": [
              "<IPython.core.display.Math object>"
            ],
            "text/latex": "$\\displaystyle \\mathrm{H_0} = 70.000$"
          },
          "metadata": {}
        }
      ]
    },
    {
      "cell_type": "code",
      "source": [],
      "metadata": {
        "id": "WCeLDbU99j1o"
      },
      "execution_count": 42,
      "outputs": []
    },
    {
      "cell_type": "code",
      "source": [],
      "metadata": {
        "id": "_mMgmhQa_HZ9"
      },
      "execution_count": null,
      "outputs": []
    }
  ]
}