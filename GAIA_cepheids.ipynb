{
  "nbformat": 4,
  "nbformat_minor": 0,
  "metadata": {
    "colab": {
      "provenance": [],
      "include_colab_link": true
    },
    "kernelspec": {
      "name": "python3",
      "display_name": "Python 3"
    },
    "language_info": {
      "name": "python"
    }
  },
  "cells": [
    {
      "cell_type": "markdown",
      "metadata": {
        "id": "view-in-github",
        "colab_type": "text"
      },
      "source": [
        "<a href=\"https://colab.research.google.com/github/csabiu/Astrostatistics/blob/main/GAIA_cepheids.ipynb\" target=\"_parent\"><img src=\"https://colab.research.google.com/assets/colab-badge.svg\" alt=\"Open In Colab\"/></a>"
      ]
    },
    {
      "cell_type": "markdown",
      "source": [
        "Install some packages and import them"
      ],
      "metadata": {
        "id": "EsPF0lpuXo97"
      }
    },
    {
      "cell_type": "code",
      "source": [
        "pip install astroquery"
      ],
      "metadata": {
        "id": "QB_r1xjgHL9K"
      },
      "execution_count": null,
      "outputs": []
    },
    {
      "cell_type": "code",
      "execution_count": null,
      "metadata": {
        "id": "f_K7tZ-yHIye"
      },
      "outputs": [],
      "source": [
        "import matplotlib as mpl\n",
        "import matplotlib.pyplot as plt\n",
        "import numpy as np\n",
        "from astropy.coordinates import (SkyCoord, Distance, Galactic,\n",
        "                                 EarthLocation, AltAz)\n",
        "import astropy.coordinates as coord\n",
        "from astropy.time import Time\n",
        "from astropy import units as u\n",
        "from astropy.coordinates import AltAz\n",
        "from astropy.io import fits\n",
        "from astropy.table import QTable\n",
        "from astropy.utils.data import download_file\n",
        "from astroquery.gaia import Gaia\n"
      ]
    },
    {
      "cell_type": "markdown",
      "source": [
        "launch SQL job on GAIA archive\n",
        "\n",
        "see the below website for all available columns and descriptions:\n",
        "\n",
        "https://gea.esac.esa.int/archive/"
      ],
      "metadata": {
        "id": "8fv453k4YFTo"
      }
    },
    {
      "cell_type": "code",
      "source": [
        "job = Gaia.launch_job_async(\"SELECT gaia.source_id,gaia.ref_epoch,gaia.ra,gaia.dec,gaia.l,gaia.b,gaia.parallax,gaia.parallax_error,gaia.pmra,gaia.pmra_error,gaia.pmdec,gaia.pmdec_error, gaia.phot_g_n_obs,gaia.phot_g_mean_mag,gaia.bp_rp,gaia.radial_velocity,gaia.radial_velocity_error, gaia.rv_template_teff, cep.pf,cep.pf_error, gaia.ag_gspphot , cep.mode_best_classification \"\n",
        "                        \"FROM gaiadr3.gaia_source AS gaia \"\n",
        "                        \"JOIN gaiadr3.vari_cepheid AS cep \"\n",
        "                        \"ON gaia.source_id=cep.source_id\",\n",
        "                      dump_to_file=True, output_format='votable',)"
      ],
      "metadata": {
        "id": "z9UIqFXbZVPB"
      },
      "execution_count": null,
      "outputs": []
    },
    {
      "cell_type": "code",
      "source": [
        "r = job.get_results()\n",
        "\n",
        "ra=np.asarray(r['ra'].value)\n",
        "dec=np.asarray(r['dec'].value)\n",
        "par=np.asarray(r['parallax'].value)\n",
        "par_err=np.asarray(r['parallax_error'].value)\n",
        "mag=np.asarray(r['phot_g_mean_mag'].value)\n",
        "ex=np.asarray(r['ag_gspphot'].value)\n",
        "pf=np.asarray(r['pf'].value)\n",
        "pf_err=np.asarray(r['pf_error'].value)\n",
        "mode=np.asarray(r['mode_best_classification'].value)\n",
        "\n",
        "sn=par/par_err\n",
        "\n",
        "print('dr3 has ',par.shape,' cepheids')\n",
        "\n",
        "b=np.asarray(r['b'].value)\n",
        "l=np.asarray(r['l'].value)\n"
      ],
      "metadata": {
        "id": "f60l7BWWyGCz"
      },
      "execution_count": null,
      "outputs": []
    },
    {
      "cell_type": "code",
      "source": [
        "mode"
      ],
      "metadata": {
        "id": "qauhZxKkzjMa"
      },
      "execution_count": null,
      "outputs": []
    },
    {
      "cell_type": "markdown",
      "source": [
        "Plot the position of cephieds\n",
        "\n",
        "showing the positions of LMC and SMC, M31, M33"
      ],
      "metadata": {
        "id": "O3xblozaf1zB"
      }
    },
    {
      "cell_type": "code",
      "source": [
        "lmc=SkyCoord.from_name('LMC')\n",
        "smc=SkyCoord.from_name('SMC')\n",
        "tri=SkyCoord.from_name('M33')\n",
        "m31=SkyCoord.from_name('M31')\n",
        "\n",
        "gal = SkyCoord(l, b, frame='galactic', unit=u.deg)\n",
        "fig = plt.figure(figsize=(8,6))\n",
        "ax = fig.add_subplot(111, projection='aitoff')\n",
        "ax.grid(True)\n",
        "ax.scatter(gal.l.wrap_at('180d').radian, gal.b.radian,s=0.5)\n",
        "ax.scatter(lmc.galactic.l.wrap_at('180d').radian, lmc.galactic.b.radian,s=100,facecolors='none', edgecolors='r')\n",
        "ax.scatter(smc.galactic.l.wrap_at('180d').radian, smc.galactic.b.radian,s=100,facecolors='none', edgecolors='r')\n",
        "ax.scatter(tri.galactic.l.wrap_at('180d').radian, tri.galactic.b.radian,s=100,facecolors='none', edgecolors='r')\n",
        "ax.scatter(m31.galactic.l.wrap_at('180d').radian, m31.galactic.b.radian,s=100,facecolors='none', edgecolors='r')"
      ],
      "metadata": {
        "id": "VM_4FB6w3vsJ"
      },
      "execution_count": null,
      "outputs": []
    },
    {
      "cell_type": "markdown",
      "source": [
        "1. compute the seperation between our stars and LMC\n",
        "2. mask out any stars more than 10deg from the LMC\n",
        "3. replot"
      ],
      "metadata": {
        "id": "7riON5U9gDCF"
      }
    },
    {
      "cell_type": "code",
      "source": [
        "cep = SkyCoord(ra, dec, frame='icrs', unit=u.deg)\n",
        "\n",
        "sep = cep.separation(lmc)\n",
        "msk=np.where((sep.deg<10.0) & (mode=='FUNDAMENTAL')) # & (par>0.0) & (ex>0.00001) & (ex<0.2) )\n",
        "\n",
        "dist=Distance(parallax=par[msk]*u.mas,allow_negative=True)\n",
        "\n",
        "fig = plt.figure(figsize=(8,6))\n",
        "ax = fig.add_subplot(111, projection='aitoff')\n",
        "ax.grid(True)\n",
        "ax.scatter(gal[msk].l.wrap_at('180d').radian, gal[msk].b.radian,s=0.5)\n",
        "ax.scatter(lmc.galactic.l.wrap_at('180d').radian, lmc.galactic.b.radian,s=100,facecolors='none', edgecolors='r')\n",
        "#ax.scatter(smc.galactic.l.wrap_at('180d').radian, smc.galactic.b.radian,s=100,facecolors='none', edgecolors='r')"
      ],
      "metadata": {
        "id": "2RdrzuNR4jLH"
      },
      "execution_count": null,
      "outputs": []
    },
    {
      "cell_type": "code",
      "source": [
        "period = pf[msk]\n",
        "magnitude = mag[msk]\n",
        "plt.scatter(period,magnitude,s=0.3,alpha=0.5)\n",
        "plt.xscale('log')\n",
        "plt.xlabel('period [days]')\n",
        "plt.ylabel(r'$M_G$')"
      ],
      "metadata": {
        "id": "TGuRDbmTxrMX"
      },
      "execution_count": null,
      "outputs": []
    },
    {
      "cell_type": "code",
      "source": [
        "\n",
        "job = Gaia.launch_job(\"SELECT gaia.source_id, gaia.ra, gaia.dec, gaia.b, gaia.parallax, gaia.parallax_error, cepheid.source_id, cepheid.pf, cepheid.pf_error, gaia.phot_g_mean_mag, gaia.phot_bp_mean_mag, gaia.phot_rp_mean_mag,gaia.phot_g_mean_flux_over_error, gaia.ag_gspphot , cepheid.mode_best_classification, gaia.distance_gspphot  \"\n",
        "                      \"FROM gaiadr3.vari_cepheid AS cepheid \"\n",
        "                      \"JOIN gaiadr3.gaia_source AS gaia ON \"\n",
        "                      \" cepheid.source_id = gaia.source_id \"\n",
        "                      \"WHERE cepheid.pf > 0.01 AND \"\n",
        "                      \" gaia.ag_gspphot > 0.00001 AND \"\n",
        "                      \" (cepheid.pf/cepheid.pf_error) > 10.0 AND \"\n",
        "                      \" gaia.phot_g_mean_flux_over_error > 10.0   \",\n",
        "                      dump_to_file=True, output_format='votable',)"
      ],
      "metadata": {
        "id": "UOgTGFiK6mz1"
      },
      "execution_count": null,
      "outputs": []
    },
    {
      "cell_type": "code",
      "source": [],
      "metadata": {
        "id": "5v3RVM1xh-tc"
      },
      "execution_count": null,
      "outputs": []
    },
    {
      "cell_type": "markdown",
      "source": [
        "1. Redo for the other magellanic clouds\n",
        "2. Are the period-luminosity relations the same?"
      ],
      "metadata": {
        "id": "IRDaSkyJ0J3t"
      }
    },
    {
      "cell_type": "markdown",
      "source": [
        "Lets look at the time series for Cepheids..."
      ],
      "metadata": {
        "id": "fTasIkAt1Gbl"
      }
    },
    {
      "cell_type": "code",
      "source": [
        "query = f\"SELECT TOP 10 \\\n",
        "gaia.source_id, gaia.ra, gaia.dec, gaia.parallax, \\\n",
        "variable.classification, variable.phot_variable_fundam_freq1, \\\n",
        "phot_stats.mean, \\\n",
        "cepheid.peak_to_peak_g, cepheid.num_harmonics_for_p1, cepheid.r21_g, cepheid.phi21_g, \\\n",
        "cepheid.type_best_classification, cepheid.type2_best_sub_classification, cepheid.mode_best_classification \\\n",
        "FROM gaiadr1.gaia_source AS gaia \\\n",
        "INNER JOIN gaiadr1.variable_summary AS variable \\\n",
        "ON gaia.source_id = variable.source_id \\\n",
        "INNER JOIN gaiadr1.phot_variable_time_series_gfov_statistical_parameters AS phot_stats \\\n",
        "ON gaia.source_id = phot_stats.source_id \\\n",
        "INNER JOIN gaiadr1.cepheid AS cepheid \\\n",
        "ON gaia.source_id = cepheid.source_id\"\n",
        "job = Gaia.launch_job_async(query,dump_to_file=True, output_format='votable',)"
      ],
      "metadata": {
        "id": "0Yv3EUdaUqx8"
      },
      "execution_count": null,
      "outputs": []
    },
    {
      "cell_type": "code",
      "source": [
        "results = job.get_results()\n",
        "print(f'Table size (rows): {len(results)}')"
      ],
      "metadata": {
        "id": "ZmAGSO-j0niM"
      },
      "execution_count": null,
      "outputs": []
    },
    {
      "cell_type": "code",
      "source": [
        "results"
      ],
      "metadata": {
        "id": "ExolIPwk0rm5"
      },
      "execution_count": null,
      "outputs": []
    },
    {
      "cell_type": "markdown",
      "source": [
        "Lets choose a cepheid to investigate. First try ID=4658950381175117824 which is designated as FIRST_OVERTONE type of oscillation."
      ],
      "metadata": {
        "id": "i096wygl1Mjh"
      }
    },
    {
      "cell_type": "code",
      "source": [
        "query = f\"SELECT \\\n",
        "curves.observation_time, \\\n",
        "mod(curves.observation_time - cepheid.epoch_g, cepheid.p1)/ cepheid.p1 as phase, \\\n",
        "curves.g_magnitude, \\\n",
        "2.5/log(10)* curves.g_flux_error/ curves.g_flux \\\n",
        "AS g_magnitude_error, \\\n",
        "rejected_by_variability_processing AS rejected \\\n",
        "FROM gaiadr1.phot_variable_time_series_gfov AS curves \\\n",
        "INNER JOIN gaiadr1.cepheid AS cepheid \\\n",
        "ON cepheid.source_id = curves.source_id \\\n",
        "WHERE cepheid.source_id = 4658950381175117824\"\n",
        "job = Gaia.launch_job_async(query,dump_to_file=True, output_format='votable',)"
      ],
      "metadata": {
        "id": "0C-MEqP10vGM"
      },
      "execution_count": null,
      "outputs": []
    },
    {
      "cell_type": "code",
      "source": [
        "results = job.get_results()\n",
        "print(f'Table size (rows): {len(results)}')"
      ],
      "metadata": {
        "id": "UDU8eLx80wUI"
      },
      "execution_count": null,
      "outputs": []
    },
    {
      "cell_type": "code",
      "source": [
        "time = np.asarray(results[\"observation_time\"])\n",
        "mag = np.asarray(results[\"g_magnitude\"])"
      ],
      "metadata": {
        "id": "Zmx7-VTi00Zl"
      },
      "execution_count": null,
      "outputs": []
    },
    {
      "cell_type": "code",
      "source": [
        "plt.scatter(time,mag)\n",
        "plt.xlim((1665,1685))"
      ],
      "metadata": {
        "id": "rFh-Z23f03OH"
      },
      "execution_count": null,
      "outputs": []
    },
    {
      "cell_type": "markdown",
      "source": [
        "Now try a FUNDAMENTAL mode cepheid and see how it looks..."
      ],
      "metadata": {
        "id": "4IxiQxF21jEv"
      }
    },
    {
      "cell_type": "code",
      "source": [],
      "metadata": {
        "id": "EDxtyU-P1oTY"
      },
      "execution_count": null,
      "outputs": []
    }
  ]
}