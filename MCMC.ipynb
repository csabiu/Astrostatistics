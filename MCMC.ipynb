{
  "nbformat": 4,
  "nbformat_minor": 0,
  "metadata": {
    "colab": {
      "provenance": [],
      "authorship_tag": "ABX9TyMemsDGXl7q1xsYMvA+2tn/",
      "include_colab_link": true
    },
    "kernelspec": {
      "name": "python3",
      "display_name": "Python 3"
    },
    "language_info": {
      "name": "python"
    }
  },
  "cells": [
    {
      "cell_type": "markdown",
      "metadata": {
        "id": "view-in-github",
        "colab_type": "text"
      },
      "source": [
        "<a href=\"https://colab.research.google.com/github/csabiu/Astrostatistics/blob/main/MCMC.ipynb\" target=\"_parent\"><img src=\"https://colab.research.google.com/assets/colab-badge.svg\" alt=\"Open In Colab\"/></a>"
      ]
    },
    {
      "cell_type": "code",
      "execution_count": null,
      "metadata": {
        "id": "yodvy4cYWArK"
      },
      "outputs": [],
      "source": [
        "pip install -U emcee"
      ]
    },
    {
      "cell_type": "code",
      "source": [
        "import emcee"
      ],
      "metadata": {
        "id": "OFoHODloWBKf"
      },
      "execution_count": null,
      "outputs": []
    },
    {
      "cell_type": "code",
      "source": [
        "from astropy.cosmology import LambdaCDM, FlatLambdaCDM\n",
        "import numpy as np\n",
        "import matplotlib.pyplot as plt\n",
        "from IPython.display import Math, Latex"
      ],
      "metadata": {
        "id": "lBUouOAUWMf4"
      },
      "execution_count": null,
      "outputs": []
    },
    {
      "cell_type": "code",
      "source": [
        "cosmo1=FlatLambdaCDM(H0=70, Om0=0.3)\n",
        "z=np.arange(0.1,1,0.1)\n",
        "da_data=cosmo1.angular_diameter_distance(z).value\n",
        "da_err=0.05*da_data\n",
        "\n",
        "plt.errorbar(z,da_data,yerr=da_err,fmt='.')\n",
        "plt.xlabel('redshift, z')\n",
        "plt.ylabel(r'$D_A$ [Mpc]')"
      ],
      "metadata": {
        "id": "DX_7g-bTWal3"
      },
      "execution_count": null,
      "outputs": []
    },
    {
      "cell_type": "code",
      "source": [
        "def log_likelihood(theta, da_data, da_err):\n",
        "    Om, H0 = theta\n",
        "\n",
        "    cosmo_Om_p=FlatLambdaCDM(H0=H0, Om0=Om)\n",
        "    da_model_Om_p=cosmo_Om_p.angular_diameter_distance(z).value\n",
        "    chi2_Om_p=np.sum((da_data-da_model_Om_p)**2/da_err**2)\n",
        "\n",
        "    return -0.5 * chi2_Om_p"
      ],
      "metadata": {
        "id": "KopoBC3VWerN"
      },
      "execution_count": null,
      "outputs": []
    },
    {
      "cell_type": "code",
      "source": [
        "def log_prior(theta):\n",
        "    Om, H0 = theta\n",
        "    if 0.1 < Om < 0.5 and 50.0 < H0 < 100.0:\n",
        "        return 0.0\n",
        "    return -np.inf"
      ],
      "metadata": {
        "id": "uwshdJXpYWY9"
      },
      "execution_count": null,
      "outputs": []
    },
    {
      "cell_type": "code",
      "source": [
        "def log_probability(theta, da_data, da_err):\n",
        "    lp = log_prior(theta)\n",
        "    if not np.isfinite(lp):\n",
        "        return -np.inf\n",
        "    return lp + log_likelihood(theta, da_data, da_err)"
      ],
      "metadata": {
        "id": "d1ls4TfiYgTX"
      },
      "execution_count": null,
      "outputs": []
    },
    {
      "cell_type": "code",
      "source": [
        "#initial points\n",
        "p1=np.random.uniform(low=0.1,high=0.5,size=10)\n",
        "p2=np.random.uniform(low=50,high=100,size=10)\n",
        "pos=np.vstack((p1,p2)).T\n",
        "nwalkers, ndim = pos.shape"
      ],
      "metadata": {
        "id": "pXo9-uQsYinf"
      },
      "execution_count": null,
      "outputs": []
    },
    {
      "cell_type": "code",
      "source": [
        "sampler = emcee.EnsembleSampler(\n",
        "    nwalkers, ndim, log_probability, args=(da_data, da_err)\n",
        ")\n",
        "sampler.run_mcmc(pos, 500, progress=True);"
      ],
      "metadata": {
        "id": "caR0eO4QY3ej"
      },
      "execution_count": null,
      "outputs": []
    },
    {
      "cell_type": "markdown",
      "source": [
        "Plot a single chain (notice the Burn-in phase)"
      ],
      "metadata": {
        "id": "CgIpYoOscjEo"
      }
    },
    {
      "cell_type": "code",
      "source": [
        "plt.figure(figsize=(6,6))\n",
        "plt.plot(samples[:,0,0],samples[:,0,1],'.-')\n",
        "plt.scatter(0.3,70,c='red',marker='+',s=50,zorder=10)\n",
        "plt.xlabel(r\"$\\Omega_M$\")\n",
        "plt.ylabel(r\"$H_0$\")"
      ],
      "metadata": {
        "id": "g3qJtVuZa6a6"
      },
      "execution_count": null,
      "outputs": []
    },
    {
      "cell_type": "markdown",
      "source": [
        "Plot all chains"
      ],
      "metadata": {
        "id": "idAzMZpScm_K"
      }
    },
    {
      "cell_type": "code",
      "source": [
        "fig, axes = plt.subplots(2, figsize=(10, 7), sharex=True)\n",
        "samples = sampler.get_chain()\n",
        "labels = ['$\\Omega_M$','$H_0$',]\n",
        "for i in range(ndim):\n",
        "    ax = axes[i]\n",
        "    ax.plot(samples[:, :, i], \"k\", alpha=0.3)\n",
        "    ax.set_xlim(0, len(samples))\n",
        "    ax.set_ylabel(labels[i])\n",
        "    #ax.yaxis.set_label_coords(-0.1, 0.5)\n",
        "\n",
        "axes[-1].set_xlabel(\"step number\");"
      ],
      "metadata": {
        "id": "mCAo_LIFZ9iR"
      },
      "execution_count": null,
      "outputs": []
    },
    {
      "cell_type": "markdown",
      "source": [
        "Lets plot the 2D contours"
      ],
      "metadata": {
        "id": "o3b1htp8dYnr"
      }
    },
    {
      "cell_type": "code",
      "source": [
        "pip install corner"
      ],
      "metadata": {
        "id": "svPSICSlctje"
      },
      "execution_count": null,
      "outputs": []
    },
    {
      "cell_type": "code",
      "source": [
        "import corner\n",
        "\n",
        "flat_samples = sampler.get_chain(discard=100, thin=15, flat=True)\n",
        "print(flat_samples.shape)\n",
        "\n",
        "fig = corner.corner(\n",
        "    flat_samples, labels=['$\\Omega_M$','$H_0$'], truths=[0.3,70.], smooth=1.,\n",
        ");"
      ],
      "metadata": {
        "id": "1zUoxKxRbIJQ"
      },
      "execution_count": null,
      "outputs": []
    },
    {
      "cell_type": "markdown",
      "source": [
        "Lets print or marginalised 1D results with errorbars"
      ],
      "metadata": {
        "id": "2S0I8RhWeCi-"
      }
    },
    {
      "cell_type": "code",
      "source": [
        "from IPython.display import display, Math\n",
        "labelss=['\\Omega_M','H_0']\n",
        "for i in range(ndim):\n",
        "    mcmc = np.percentile(flat_samples[:, i], [16, 50, 84])\n",
        "    q = np.diff(mcmc)\n",
        "    txt = \"\\mathrm{{{3}}} = {0:.3f}_{{-{1:.3f}}}^{{{2:.3f}}}\"\n",
        "    txt = txt.format(mcmc[1], q[0], q[1], labelss[i])\n",
        "    display(Math(txt))"
      ],
      "metadata": {
        "id": "q8yG80yncsJU"
      },
      "execution_count": null,
      "outputs": []
    },
    {
      "cell_type": "markdown",
      "source": [
        "Q. Can you extend this to 3 parameters, maybe include curvature!"
      ],
      "metadata": {
        "id": "HA1wK8ireVb0"
      }
    },
    {
      "cell_type": "code",
      "source": [],
      "metadata": {
        "id": "RQIn8LEmdsOv"
      },
      "execution_count": null,
      "outputs": []
    }
  ]
}