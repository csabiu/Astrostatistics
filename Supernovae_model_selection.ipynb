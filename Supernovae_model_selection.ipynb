{
  "cells": [
    {
      "cell_type": "markdown",
      "metadata": {
        "id": "view-in-github",
        "colab_type": "text"
      },
      "source": [
        "<a href=\"https://colab.research.google.com/github/csabiu/Astrostatistics/blob/main/Supernovae_model_selection.ipynb\" target=\"_parent\"><img src=\"https://colab.research.google.com/assets/colab-badge.svg\" alt=\"Open In Colab\"/></a>"
      ]
    },
    {
      "cell_type": "markdown",
      "metadata": {
        "id": "jUYsKMp7h4w3"
      },
      "source": [
        "Among the following models, which model fits the Pantheon supernovae compilation better? why?\n",
        "$\\Lambda$CDM, Flat $\\Lambda$CDM, $w$CDM, Flat $w$CDM\n",
        "\n"
      ]
    },
    {
      "cell_type": "code",
      "execution_count": null,
      "metadata": {
        "id": "FzLXJNcsiIqW"
      },
      "outputs": [],
      "source": []
    },
    {
      "cell_type": "code",
      "execution_count": null,
      "metadata": {
        "id": "given-charge"
      },
      "outputs": [],
      "source": [
        "import numpy as np\n",
        "import matplotlib.pyplot as plt\n",
        "import pandas as pd\n",
        "from astropy.cosmology import FlatLambdaCDM, LambdaCDM, wCDM,FlatwCDM\n",
        "from scipy import optimize\n",
        "import pandas as pd\n",
        "\n",
        "# These packages are not installed by default on Google Colab, we may need to\n",
        "# install them\n",
        "# I am using try/except so that we only install them if they're not already\n",
        "# installed:\n",
        "try:\n",
        "   import emcee\n",
        "except:\n",
        "  # emcee not installed, install it and import\n",
        "  !pip install emcee\n",
        "  import emcee\n",
        "# same for corner:\n",
        "try:\n",
        "  import corner\n",
        "except:\n",
        "  !pip install corner\n",
        "  import corner\n",
        "\n",
        "\n",
        "models = [\"FlatLCDM\",\"LCDM\",'FlatwCDM','wCDM']"
      ]
    },
    {
      "cell_type": "code",
      "execution_count": null,
      "metadata": {
        "id": "continuing-berry"
      },
      "outputs": [],
      "source": [
        "z, mB, dmB = np.genfromtxt(\"https://raw.githubusercontent.com/dscolnic/Pantheon/master/lcparam_full_long.txt\", skip_header=0, usecols=(1, 4, 5), unpack=True)\n",
        "Nsn = len(z) # number of samples (data points)\n",
        "\n",
        "Csys = np.genfromtxt(\"https://raw.githubusercontent.com/dscolnic/Pantheon/master/sys_full_long.txt\", skip_header=1).reshape((Nsn,Nsn))\n",
        "Cov=Csys + np.diag(dmB**2)\n",
        "\n",
        "#invert the covarinace matrix\n",
        "Cinv = np.linalg.inv(Cov)\n",
        "err=np.sqrt(np.diag(Cov))\n",
        "\n",
        "# creating a structured array:\n",
        "data = np.zeros(Nsn,dtype=[('z',float),('mB',float),('dmB',float)])\n",
        "data['z'] = z\n",
        "data['mB'] = mB\n",
        "data['dmB'] = dmB\n",
        "\n",
        "# creating a dataframe to save my results\n",
        "df = pd.DataFrame(columns=['Model','AIC','BIC','DIC','chi2min','chi2min/dof'])\n",
        "df['Model'] = models\n",
        "\n"
      ]
    },
    {
      "cell_type": "markdown",
      "source": [
        "Plot the data"
      ],
      "metadata": {
        "id": "eLIGb99c70cS"
      }
    },
    {
      "cell_type": "code",
      "source": [
        "plt.errorbar(z,mB,yerr=err,fmt='.')\n",
        "plt.xlabel(r'redshift, $z$')\n",
        "plt.ylabel(r'distance modulus, $\\mu$')"
      ],
      "metadata": {
        "id": "MI8CaGYibeXn"
      },
      "execution_count": null,
      "outputs": []
    },
    {
      "cell_type": "markdown",
      "source": [
        "Lets look how the matter component effects the distance modulus"
      ],
      "metadata": {
        "id": "zvzaC_bXwsod"
      }
    },
    {
      "cell_type": "code",
      "source": [
        "zs=np.arange(0,2.4,0.02)\n",
        "\n",
        "plt.errorbar(z,mB,yerr=err,fmt='.',zorder=0)\n",
        "\n",
        "cosmo = FlatLambdaCDM(Om0=0.1,H0=70)\n",
        "dy = cosmo.distmod(zs).value - 19.3\n",
        "plt.plot(zs,dy,label=r'$\\Omega_M=0.1$')\n",
        "\n",
        "cosmo = FlatLambdaCDM(Om0=0.3,H0=70)\n",
        "dy = cosmo.distmod(zs).value - 19.3\n",
        "plt.plot(zs,dy,label=r'$\\Omega_M=0.3$')\n",
        "\n",
        "cosmo = FlatLambdaCDM(Om0=0.5,H0=70)\n",
        "dy = cosmo.distmod(zs).value - 19.3\n",
        "plt.plot(zs,dy,label=r'$\\Omega_M=0.5$')\n",
        "plt.legend(loc=4)\n",
        "\n",
        "plt.xlabel(r'redshift, $z$')\n",
        "plt.ylabel(r'distance modulus, $\\mu$')"
      ],
      "metadata": {
        "id": "q1SH63q2tarA"
      },
      "execution_count": null,
      "outputs": []
    },
    {
      "cell_type": "markdown",
      "source": [
        "Lets look how the dark energy equation of state, w, effects the distance modulus"
      ],
      "metadata": {
        "id": "PoAFf_yrw2cE"
      }
    },
    {
      "cell_type": "code",
      "source": [
        "zs=np.arange(0,2.4,0.02)\n",
        "\n",
        "plt.errorbar(z,mB,yerr=err,fmt='.',zorder=0)\n",
        "\n",
        "cosmo = FlatwCDM(Om0=0.3,w0=-.5,H0=70)\n",
        "dy = cosmo.distmod(zs).value - 19.3\n",
        "plt.plot(zs,dy,label=r'$w_0=-0.5$')\n",
        "\n",
        "cosmo = FlatwCDM(Om0=0.3,w0=-1.,H0=70)\n",
        "dy = cosmo.distmod(zs).value - 19.3\n",
        "plt.plot(zs,dy,label=r'$w_0=-1.0$')\n",
        "\n",
        "cosmo = FlatwCDM(Om0=0.3,w0=-1.5,H0=70)\n",
        "dy = cosmo.distmod(zs).value - 19.3\n",
        "plt.plot(zs,dy,label=r'$w_0=-1.5$')\n",
        "plt.legend(loc=4)\n",
        "\n",
        "plt.xlabel(r'redshift, $z$')\n",
        "plt.ylabel(r'distance modulus, $\\mu$')"
      ],
      "metadata": {
        "id": "zO7Dh0EXuk85"
      },
      "execution_count": null,
      "outputs": []
    },
    {
      "cell_type": "markdown",
      "source": [
        "Plot the data covariance matrix"
      ],
      "metadata": {
        "id": "KnwbPAi872vr"
      }
    },
    {
      "cell_type": "code",
      "source": [
        "plt.imshow(np.log10(np.abs(Cov)))\n",
        "plt.colorbar()"
      ],
      "metadata": {
        "id": "x_SZ0d29rhYy"
      },
      "execution_count": null,
      "outputs": []
    },
    {
      "cell_type": "code",
      "execution_count": null,
      "metadata": {
        "id": "o7gTTYNHiS8T"
      },
      "outputs": [],
      "source": [
        "# Define my chi^2 (cost function):\n",
        "\n",
        "def residuals(params,model,data):\n",
        "  '''return chi^2\n",
        "\n",
        "  order: Om0, Ode0, w,Mb\n",
        "  '''\n",
        "  assert model in [0,1,2,3], 'error, model={} unknown'.format(model)\n",
        "  H0 = 70.\n",
        "  if model == 0:\n",
        "    Om0,MB = params\n",
        "    cosmo = FlatLambdaCDM(Om0=Om0,H0=H0)\n",
        "  elif model == 1:\n",
        "    # LCDM:\n",
        "    Om0,Ode0,MB = params\n",
        "    cosmo = LambdaCDM(Om0=Om0,Ode0=Ode0,H0=H0)\n",
        "  elif model == 2:\n",
        "    # flat wCDM\n",
        "    Om0,w,MB = params\n",
        "    cosmo = FlatwCDM(Om0=Om0,w0=w,H0=H0)\n",
        "  elif model == 3:\n",
        "    Om0,Ode0,w,MB = params\n",
        "    cosmo = wCDM(Om0=Om0,Ode0=Ode0,w0=w,H0=H0)\n",
        "\n",
        "  dy = cosmo.distmod(data['z']).value - (data['mB'] - MB )\n",
        "  chi2 = dy.T @ Cinv @ dy\n",
        "\n",
        "  return chi2\n"
      ]
    },
    {
      "cell_type": "markdown",
      "source": [
        "Use the genetic algorithm method to find the maximum likelihood point"
      ],
      "metadata": {
        "id": "rn_iWcatxBST"
      }
    },
    {
      "cell_type": "code",
      "execution_count": null,
      "metadata": {
        "id": "z939tIduinPz"
      },
      "outputs": [],
      "source": [
        "# minimizing chi2 = max likelihood\n",
        "\n",
        "Nparams = [2,3,3,4] # number of parameters in each model\n",
        "bounds = {}\n",
        "bounds[0] = ((0,1),(-25,-15))\n",
        "bounds[1] = ((0,1),(0,1),(-25,-15))\n",
        "bounds[2] = ((0,1),(-2,0),(-25,-15))\n",
        "bounds[3] = ((0,1),(0,1),(-2,0),(-25,-15))\n",
        "thetahat = {}\n",
        "for model in range(4):\n",
        "  print (72*\"=\")\n",
        "  print(\" Model: {}\".format(model))\n",
        "  res = optimize.differential_evolution(residuals,bounds=bounds[model],args=(model,data))\n",
        "  #print (res)\n",
        "  thetahat[model] = res.x\n",
        "  chi2 = res.fun\n",
        "  nu = Nsn-Nparams[model]\n",
        "  print( \" chi2/nu = {}/{} = {}\".format(chi2,nu,chi2/nu))\n",
        "  print(\" best parameters = \",res.x)\n",
        "  ii = df['Model'] == models[model]\n",
        "  #print (ii,df.loc[ii])\n",
        "  df.loc[ii,'AIC'] = chi2 + 2*Nparams[model]\n",
        "  df.loc[ii,'BIC'] = chi2 + Nparams[model] * np.log(Nsn)\n",
        "  df.loc[ii,'chi2min'] = chi2\n",
        "  df.loc[ii,'chi2min/dof'] = chi2/nu\n",
        "\n",
        "print (72*\"=\")\n",
        "print (df)"
      ]
    },
    {
      "cell_type": "markdown",
      "metadata": {
        "id": "nQ7pWsTCvQRp"
      },
      "source": [
        "# MCMC"
      ]
    },
    {
      "cell_type": "code",
      "execution_count": null,
      "metadata": {
        "id": "IvwuncSGsXUB"
      },
      "outputs": [],
      "source": [
        "# Define my priors:\n",
        "\n",
        "def lnpOm0(Om0):\n",
        "  if 0<Om0<1:\n",
        "    return 0\n",
        "  else:\n",
        "    return -np.inf\n",
        "\n",
        "\n",
        "def lnpMB(MB):\n",
        "  ''' Note: this is an unnormalized prior.\n",
        "  The correct normalization would be -np.log(Mb_Max-Mb_min) = np.log(1/(Mbmax-Mbmin))\n",
        "  '''\n",
        "  if -25<MB<-15:\n",
        "    return 0\n",
        "  else:\n",
        "    return -np.inf\n",
        "\n",
        "def lnpOde0(Ode0):\n",
        "  if 0<Ode0<1.4:\n",
        "    return 0\n",
        "  else:\n",
        "    return -np.inf\n",
        "\n",
        "def lnpw(ww):\n",
        "  if -3<ww<0:\n",
        "    return 0\n",
        "  else:\n",
        "    return -np.inf\n",
        "\n",
        "def lnprior(theta,model):\n",
        "  '''Returns the (unnormalized) prior'''\n",
        "  Om0 = theta[0]\n",
        "  MB = theta[-1]\n",
        "  lp = lnpOm0(Om0) + lnpMB(MB)\n",
        "  if model in [1,3]:\n",
        "    Ode0 = theta[1]\n",
        "    lp += lnpOde0(Ode0)\n",
        "  if model in [2,3]:\n",
        "    ww = theta[-2]\n",
        "    lp += lnpw(ww)\n",
        "  return lp\n",
        "\n",
        "def lnP(theta,model,data):\n",
        "  '''Calculate the log posterior\n",
        "  ln P(theta) = ln pi(theta) + ln L (theta)\n",
        "  Also return the log likelihood as a blob.\n",
        "  '''\n",
        "  # 1. Get the prior for the parameters theta\n",
        "  lp = lnprior(theta,model)\n",
        "\n",
        "  # are the parameters within the priors?\n",
        "  if np.isfinite (lp):\n",
        "    # Get the log likelihood\n",
        "    ll = -.5*residuals(theta,model,data)\n",
        "    return lp+ll,ll\n",
        "  else:\n",
        "    # my prior is zero so I don't need to calculate ln L,\n",
        "    # I just return ln pi = -inf\n",
        "    return lp,lp\n"
      ]
    },
    {
      "cell_type": "markdown",
      "metadata": {
        "id": "bjr2Bt1mvYpb"
      },
      "source": [
        "# Calculate the DIC"
      ]
    },
    {
      "cell_type": "code",
      "execution_count": null,
      "metadata": {
        "id": "avDxeT-8_vdD"
      },
      "outputs": [],
      "source": [
        "def DIC (mysample,thetamean):\n",
        "  # ln L = -.5*residuals(theta,model,data)\n",
        "  ll = mysample.get_blobs(flat=True,thin=nthin,discard=nburn).mean()\n",
        "  # chi2(\\bar\\theta) = residuals = -2 ln L(\\hat\\theta)\n",
        "  return -4*ll  - residuals(thetamean,model,data)\n"
      ]
    },
    {
      "cell_type": "code",
      "execution_count": null,
      "metadata": {
        "id": "aUKOglFgvanV"
      },
      "outputs": [],
      "source": []
    },
    {
      "cell_type": "markdown",
      "metadata": {
        "id": "OnY-SOtSvayy"
      },
      "source": [
        "# Ok, now we run MCMC:"
      ]
    },
    {
      "cell_type": "code",
      "execution_count": null,
      "metadata": {
        "id": "kpfNY1mktd97"
      },
      "outputs": [],
      "source": [
        "# fLCDM\n",
        "model = 0\n",
        "nwalker = 12\n",
        "ndim = Nparams[model]\n",
        "niter = 2000\n",
        "\n",
        "theta0 = thetahat[model] + 1e-4 * np.random.randn(nwalker, ndim)\n",
        "nwalkers, ndim = theta0.shape\n",
        "\n",
        "sampler = emcee.EnsembleSampler(nwalkers, ndim, lnP, args=(model,data))\n",
        "sampler.run_mcmc(theta0, niter, progress=True);\n",
        "\n",
        "\n",
        "\n",
        "fig, axes = plt.subplots(ndim, figsize=(10, 7), sharex=True)\n",
        "samples = sampler.get_chain()\n",
        "labels = [r\"$\\Omega_m$\", r\"M_B\",]\n",
        "for i in range(ndim):\n",
        "    ax = axes[i]\n",
        "    ax.plot(samples[:, :, i], \"k\", alpha=0.3)\n",
        "    ax.set_xlim(0, len(samples))\n",
        "    ax.set_ylabel(labels[i])\n",
        "    ax.yaxis.set_label_coords(-0.1, 0.5)\n",
        "\n",
        "    ax.axvline(x=50)\n",
        "axes[-1].set_xlabel(\"step number\");\n",
        "\n",
        "nburn = 50\n",
        "nthin = 30\n",
        "\n",
        "flat_samples = sampler.get_chain(discard=nburn, thin=nthin, flat=True)\n",
        "print(flat_samples.shape)\n",
        "thetamean = flat_samples.mean(axis=0)\n",
        "print(thetamean)\n",
        "\n",
        "fig = corner.corner(\n",
        "    flat_samples, labels=labels, truth=thetahat, smooth=2.,show_titles=True\n",
        ");\n",
        "\n",
        "fig.savefig(\"flat_lcdm.pdf\",dpi=600)\n",
        "\n",
        "DIC_value = DIC(sampler,thetamean)\n",
        "print (DIC_value)\n",
        "df.loc[model]['DIC'] = DIC_value\n",
        "print (df)"
      ]
    },
    {
      "cell_type": "markdown",
      "source": [
        "Plot the data again with the best fit for flat LCDM (model 0)"
      ],
      "metadata": {
        "id": "USye2lUD8vKU"
      }
    },
    {
      "cell_type": "code",
      "execution_count": null,
      "metadata": {
        "id": "5MvHuPfPqFhu"
      },
      "outputs": [],
      "source": [
        "Om0,MB = thetamean\n",
        "cosmo = FlatLambdaCDM(Om0=Om0,H0=H0)\n",
        "zs=np.arange(0,2.4,0.02)\n",
        "\n",
        "dy = cosmo.distmod(zs).value + MB\n",
        "\n",
        "plt.errorbar(z,mB,yerr=err,fmt='.',zorder=0)\n",
        "plt.plot(zs,dy)"
      ]
    },
    {
      "cell_type": "code",
      "execution_count": null,
      "metadata": {
        "id": "Cw3h0P9FvUt_"
      },
      "outputs": [],
      "source": [
        "df"
      ]
    },
    {
      "cell_type": "code",
      "execution_count": null,
      "metadata": {
        "id": "jik2CWj64SH4"
      },
      "outputs": [],
      "source": []
    },
    {
      "cell_type": "code",
      "execution_count": null,
      "metadata": {
        "id": "fKdJuCut5O1U"
      },
      "outputs": [],
      "source": []
    },
    {
      "cell_type": "code",
      "execution_count": null,
      "metadata": {
        "id": "nXC9m6Ml5k6X"
      },
      "outputs": [],
      "source": [
        "# LCDM\n",
        "# initialize my MCMC:\n",
        "model = 1\n",
        "nwalker = 12\n",
        "ndim = Nparams[model]\n",
        "niter = 3000\n",
        "\n",
        "# initial condition:\n",
        "theta0 = thetahat[model] + 1e-4 * np.random.randn(nwalker, ndim)\n",
        "nwalkers, ndim = theta0.shape\n",
        "\n",
        "sampler = emcee.EnsembleSampler(nwalkers, ndim, lnP, args=(model,data))\n",
        "sampler.run_mcmc(theta0, niter, progress=True);\n",
        "\n",
        "\n",
        "\n",
        "fig, axes = plt.subplots(ndim, figsize=(10, 7), sharex=True)\n",
        "samples = sampler.get_chain()\n",
        "labels = [r\"$\\Omega_m$\", r\"$\\Omega_\\Lambda$\" ,r\"$M_B$\"]\n",
        "for i in range(ndim):\n",
        "    ax = axes[i]\n",
        "    ax.plot(samples[:, :, i], \"k\", alpha=0.3)\n",
        "    ax.set_xlim(0, len(samples))\n",
        "    ax.set_ylabel(labels[i])\n",
        "    ax.yaxis.set_label_coords(-0.1, 0.5)\n",
        "\n",
        "    ax.axvline(x=50)\n",
        "axes[-1].set_xlabel(\"step number\");\n",
        "\n",
        "# AutocorrelatioN:\n",
        "tau = sampler.get_autocorr_time()\n",
        "print(tau)\n",
        "nburn = 50 # remove the first nburn iterations\n",
        "nthin = 30 # remove every nthin iteration to remove the correlation\n",
        "\n",
        "flat_samples = sampler.get_chain(discard=nburn, thin=nthin, flat=True)\n",
        "print(flat_samples.shape)\n",
        "thetamean = flat_samples.mean(axis=0)\n",
        "print(thetamean)\n",
        "\n",
        "\n",
        "fig = corner.corner(\n",
        "    flat_samples, labels=labels, truth=thetahat, smooth=2.,show_titles=True\n",
        ");\n",
        "\n",
        "fig.savefig(\"flat_lcdm.pdf\",dpi=600)\n",
        "\n",
        "DIC_value = DIC(sampler,thetamean)\n",
        "print (DIC_value)\n",
        "df.loc[model]['DIC'] = DIC_value\n",
        "print (df)"
      ]
    },
    {
      "cell_type": "code",
      "execution_count": null,
      "metadata": {
        "id": "TNIK8t8d8ZmP"
      },
      "outputs": [],
      "source": [
        "# flatwCDM\n",
        "model = 2\n",
        "nwalker = 12\n",
        "ndim = Nparams[model]\n",
        "niter = 8000\n",
        "\n",
        "theta0 = thetahat[model] + 1e-4 * np.random.randn(nwalker, ndim)\n",
        "nwalkers, ndim = theta0.shape\n",
        "\n",
        "sampler = emcee.EnsembleSampler(nwalkers, ndim, lnP, args=(model,data))\n",
        "sampler.run_mcmc(theta0, niter, progress=True);\n",
        "\n",
        "\n",
        "\n",
        "fig, axes = plt.subplots(ndim, figsize=(10, 7), sharex=True)\n",
        "samples = sampler.get_chain()\n",
        "labels = [r\"$\\Omega_m$\", r\"$w$\" ,r\"$M_B$\"]\n",
        "for i in range(ndim):\n",
        "    ax = axes[i]\n",
        "    ax.plot(samples[:, :, i], \"k\", alpha=0.3)\n",
        "    ax.set_xlim(0, len(samples))\n",
        "    ax.set_ylabel(labels[i])\n",
        "    ax.yaxis.set_label_coords(-0.1, 0.5)\n",
        "\n",
        "    ax.axvline(x=50)\n",
        "axes[-1].set_xlabel(\"step number\");\n",
        "\n",
        "nburn = 50\n",
        "nthin = 30\n",
        "\n",
        "flat_samples = sampler.get_chain(discard=nburn, thin=nthin, flat=True)\n",
        "print(flat_samples.shape)\n",
        "thetamean = flat_samples.mean(axis=0)\n",
        "print(thetamean)\n",
        "\n",
        "fig = corner.corner(\n",
        "    flat_samples, labels=labels, truth=thetahat, smooth=2.,show_titles=True\n",
        ");\n",
        "\n",
        "fig.savefig(\"flat_wcdm.pdf\",dpi=600)\n",
        "\n",
        "DIC_value = DIC(sampler,thetamean)\n",
        "print (DIC_value)\n",
        "df.loc[model]['DIC'] = DIC_value\n",
        "print (df)"
      ]
    },
    {
      "cell_type": "code",
      "execution_count": null,
      "metadata": {
        "id": "8FiPChj_AHK_"
      },
      "outputs": [],
      "source": [
        "# wCDM\n",
        "model = 3\n",
        "nwalker = 12\n",
        "ndim = Nparams[model]\n",
        "niter = 27000\n",
        "\n",
        "theta0 = thetahat[model] + 1e-4 * np.random.randn(nwalker, ndim)\n",
        "nwalkers, ndim = theta0.shape\n",
        "\n",
        "sampler = emcee.EnsembleSampler(nwalkers, ndim, lnP, args=(model,data))\n",
        "sampler.run_mcmc(theta0, niter, progress=True)\n",
        "\n",
        "fig, axes = plt.subplots(ndim, figsize=(10, 7), sharex=True)\n",
        "samples = sampler.get_chain()\n",
        "labels = [r\"$\\Omega_m$\", r\"$\\Omega_\\Lambda$\", r\"$w$\" ,r\"$M_B$\"]\n",
        "for i in range(ndim):\n",
        "    ax = axes[i]\n",
        "    ax.plot(samples[:, :, i], \"k\", alpha=0.3)\n",
        "    ax.set_xlim(0, len(samples))\n",
        "    ax.set_ylabel(labels[i])\n",
        "    ax.yaxis.set_label_coords(-0.1, 0.5)\n",
        "\n",
        "    ax.axvline(x=50)\n",
        "axes[-1].set_xlabel(\"step number\")\n",
        "\n",
        "nburn = 50\n",
        "nthin = 30\n",
        "\n",
        "flat_samples = sampler.get_chain(discard=nburn, thin=nthin, flat=True)\n",
        "print(flat_samples.shape)\n",
        "thetamean = flat_samples.mean(axis=0)\n",
        "print(thetamean)\n",
        "\n",
        "fig = corner.corner(\n",
        "    flat_samples, labels=labels, truth=thetahat, smooth=2.,show_titles=True\n",
        ");\n",
        "\n",
        "fig.savefig(\"wcdm.pdf\",dpi=600)\n",
        "\n",
        "DIC_value = DIC(sampler,thetamean)\n",
        "print (DIC_value)\n",
        "df.loc[model]['DIC'] = DIC_value\n",
        "print (df)"
      ]
    },
    {
      "cell_type": "code",
      "execution_count": null,
      "metadata": {
        "id": "1JosW5Zh8tym"
      },
      "outputs": [],
      "source": []
    },
    {
      "cell_type": "code",
      "execution_count": null,
      "metadata": {
        "id": "Eopdg6sxfCFV"
      },
      "outputs": [],
      "source": []
    },
    {
      "cell_type": "code",
      "execution_count": null,
      "metadata": {
        "id": "7fZGaX9tt6oz"
      },
      "outputs": [],
      "source": []
    },
    {
      "cell_type": "code",
      "execution_count": null,
      "metadata": {
        "id": "Ur1MhfQ_t9DM"
      },
      "outputs": [],
      "source": []
    },
    {
      "cell_type": "code",
      "execution_count": null,
      "metadata": {
        "id": "GXh8EuLpIvQB"
      },
      "outputs": [],
      "source": []
    }
  ],
  "metadata": {
    "colab": {
      "provenance": [],
      "include_colab_link": true
    },
    "kernelspec": {
      "display_name": "Python 3.8.12 ('base')",
      "language": "python",
      "name": "python3"
    },
    "language_info": {
      "codemirror_mode": {
        "name": "ipython",
        "version": 3
      },
      "file_extension": ".py",
      "mimetype": "text/x-python",
      "name": "python",
      "nbconvert_exporter": "python",
      "pygments_lexer": "ipython3",
      "version": "3.8.12"
    },
    "vscode": {
      "interpreter": {
        "hash": "b3670894bbd1e7b192b3db5c0c2c572e2f3b5a02086c3c36a2774c74c259fbda"
      }
    }
  },
  "nbformat": 4,
  "nbformat_minor": 0
}