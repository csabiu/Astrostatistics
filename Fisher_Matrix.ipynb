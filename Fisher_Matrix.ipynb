{
  "nbformat": 4,
  "nbformat_minor": 0,
  "metadata": {
    "colab": {
      "provenance": [],
      "authorship_tag": "ABX9TyOaTGTC/a/uXnebPhv/ZTpS",
      "include_colab_link": true
    },
    "kernelspec": {
      "name": "python3",
      "display_name": "Python 3"
    },
    "language_info": {
      "name": "python"
    }
  },
  "cells": [
    {
      "cell_type": "markdown",
      "metadata": {
        "id": "view-in-github",
        "colab_type": "text"
      },
      "source": [
        "<a href=\"https://colab.research.google.com/github/csabiu/Astrostatistics/blob/main/Fisher_Matrix.ipynb\" target=\"_parent\"><img src=\"https://colab.research.google.com/assets/colab-badge.svg\" alt=\"Open In Colab\"/></a>"
      ]
    },
    {
      "cell_type": "code",
      "execution_count": 1,
      "metadata": {
        "id": "TZT5ICRn0F3P"
      },
      "outputs": [],
      "source": [
        "from astropy.cosmology import LambdaCDM, FlatLambdaCDM\n",
        "import numpy as np\n",
        "import matplotlib.pyplot as plt\n",
        "from IPython.display import Math, Latex"
      ]
    },
    {
      "cell_type": "code",
      "source": [
        "cosmo1=FlatLambdaCDM(H0=70, Om0=0.3)\n",
        "cosmo2=LambdaCDM(H0=70, Om0=0.3,Ode0=0.6)\n",
        "cosmo1.is_equivalent(cosmo2)"
      ],
      "metadata": {
        "colab": {
          "base_uri": "https://localhost:8080/"
        },
        "id": "jH5rYTuo0Ic1",
        "outputId": "593f7a0b-b478-4b6a-a0f6-f4d247432a3a"
      },
      "execution_count": 2,
      "outputs": [
        {
          "output_type": "execute_result",
          "data": {
            "text/plain": [
              "False"
            ]
          },
          "metadata": {},
          "execution_count": 2
        }
      ]
    },
    {
      "cell_type": "code",
      "source": [
        "z=np.arange(0.1,1,0.1)\n",
        "da_data=cosmo1.angular_diameter_distance(z).value\n",
        "da_err=0.05*da_data\n",
        "\n",
        "plt.errorbar(z,da_data,yerr=da_err,fmt='.')\n",
        "plt.xlabel('redshift, z')\n",
        "plt.ylabel(r'$D_A$ [Mpc]')"
      ],
      "metadata": {
        "colab": {
          "base_uri": "https://localhost:8080/",
          "height": 560
        },
        "id": "KS2ddoDy1Syw",
        "outputId": "d573a1bb-d9a9-4694-8892-4bdc594594e0"
      },
      "execution_count": 89,
      "outputs": [
        {
          "output_type": "execute_result",
          "data": {
            "text/plain": [
              "Text(0, 0.5, '$D_A$ [Mpc]')"
            ]
          },
          "metadata": {},
          "execution_count": 89
        },
        {
          "output_type": "display_data",
          "data": {
            "text/plain": [
              "<Figure size 1000x600 with 1 Axes>"
            ],
            "image/png": "[encoded data removed]"
          },
          "metadata": {}
        }
      ]
    },
    {
      "cell_type": "code",
      "source": [
        "da_model=cosmo1.angular_diameter_distance(z).value\n",
        "chi2=np.sum((da_data-da_model)**2/da_err**2)"
      ],
      "metadata": {
        "id": "-5ibdAqf1iHd"
      },
      "execution_count": 100,
      "outputs": []
    },
    {
      "cell_type": "markdown",
      "source": [
        "Lets do a 1-D examination of $\\Omega_m$ constraints from the $D_A$ data\n",
        "\n",
        "Need to compute: $\\frac{\\partial^2\\ell}{\\partial\\theta^2}$"
      ],
      "metadata": {
        "id": "a-1GyKO089kN"
      }
    },
    {
      "cell_type": "code",
      "source": [
        "dOm=0.01 # small delta change in parameter to compute numerical derivatives\n",
        "\n",
        "cosmo_Om_p=FlatLambdaCDM(H0=70, Om0=0.3+dOm)\n",
        "da_model_Om_p=cosmo_Om_p.angular_diameter_distance(z).value\n",
        "chi2_Om_p=np.sum((da_data-da_model_Om_p)**2/da_err**2)\n",
        "\n",
        "cosmo_Om_m=FlatLambdaCDM(H0=70, Om0=0.3-dOm)\n",
        "da_model_Om_m=cosmo_Om_m.angular_diameter_distance(z).value\n",
        "chi2_Om_m=np.sum((da_data-da_model_Om_m)**2/da_err**2)\n"
      ],
      "metadata": {
        "id": "U9qGmOjD4Pgb"
      },
      "execution_count": 101,
      "outputs": []
    },
    {
      "cell_type": "markdown",
      "source": [
        "Compute 2nd derivative using central finite difference formulae"
      ],
      "metadata": {
        "id": "8790TgU99Zcz"
      }
    },
    {
      "cell_type": "code",
      "source": [
        "dl2=(chi2_Om_p-2*chi2+chi2_Om_m)/dOm**2\n",
        "\n",
        "display(Latex(r'\\frac{\\partial^2\\ell}{\\partial\\Omega_M^2}='),dl2)"
      ],
      "metadata": {
        "colab": {
          "base_uri": "https://localhost:8080/",
          "height": 63
        },
        "id": "TLJlpsbc71O2",
        "outputId": "d3ab6613-76b1-46f1-beee-0aec6cff6033"
      },
      "execution_count": 102,
      "outputs": [
        {
          "output_type": "display_data",
          "data": {
            "text/plain": [
              "<IPython.core.display.Latex object>"
            ],
            "text/latex": "\\frac{\\partial^2\\ell}{\\partial\\Omega_M^2}="
          },
          "metadata": {}
        },
        {
          "output_type": "display_data",
          "data": {
            "text/plain": [
              "969.1380141631845"
            ]
          },
          "metadata": {}
        }
      ]
    },
    {
      "cell_type": "code",
      "source": [
        "display(Latex(r'\\sigma_{\\Omega_M}='),1/np.sqrt(dl2))"
      ],
      "metadata": {
        "colab": {
          "base_uri": "https://localhost:8080/",
          "height": 57
        },
        "id": "dYojDzla8LBR",
        "outputId": "883a82fb-75d5-4b3c-b269-4680c561a8e1"
      },
      "execution_count": 103,
      "outputs": [
        {
          "output_type": "display_data",
          "data": {
            "text/plain": [
              "<IPython.core.display.Latex object>"
            ],
            "text/latex": "\\sigma_{\\Omega_M}="
          },
          "metadata": {}
        },
        {
          "output_type": "display_data",
          "data": {
            "text/plain": [
              "0.03212234080751068"
            ]
          },
          "metadata": {}
        }
      ]
    },
    {
      "cell_type": "markdown",
      "source": [
        "## Q. How does this improve if you have more observations of $D_A$? Try either more observations between 0<z<1 or over a larger redshift range."
      ],
      "metadata": {
        "id": "p9hMR77iAkXf"
      }
    },
    {
      "cell_type": "code",
      "source": [],
      "metadata": {
        "id": "vz3vB54HAjak"
      },
      "execution_count": null,
      "outputs": []
    },
    {
      "cell_type": "markdown",
      "source": [
        "Ok, lets go to the 2-D case and investigate $H_0$ and $\\Omega_M$"
      ],
      "metadata": {
        "id": "LPBeSLpWBJIm"
      }
    },
    {
      "cell_type": "code",
      "source": [
        "dOm=0.01 # small delta change in parameter to compute numerical derivatives\n",
        "dH=1\n",
        "\n",
        "cosmo=FlatLambdaCDM(H0=70+dH, Om0=0.3+dOm)\n",
        "da_model=cosmo.angular_diameter_distance(z).value\n",
        "chi2_p_p=np.sum((da_data-da_model)**2/da_err**2)\n",
        "\n",
        "cosmo=FlatLambdaCDM(H0=70-dH, Om0=0.3+dOm)\n",
        "da_model=cosmo.angular_diameter_distance(z).value\n",
        "chi2_m_p=np.sum((da_data-da_model)**2/da_err**2)\n",
        "\n",
        "cosmo=FlatLambdaCDM(H0=70+dH, Om0=0.3-dOm)\n",
        "da_model=cosmo.angular_diameter_distance(z).value\n",
        "chi2_p_m=np.sum((da_data-da_model)**2/da_err**2)\n",
        "\n",
        "cosmo=FlatLambdaCDM(H0=70-dH, Om0=0.3-dOm)\n",
        "da_model=cosmo.angular_diameter_distance(z).value\n",
        "chi2_m_m=np.sum((da_data-da_model)**2/da_err**2)\n",
        "\n",
        "dl2_dOmdH = (chi2_m_m+ chi2_p_p- chi2_p_m - chi2_m_p)/(4*dOm*dH)\n",
        "display(Latex(r'\\frac{\\partial^2\\ell}{\\partial\\Omega_M\\partial H_0}='),dl2_dOmdH)"
      ],
      "metadata": {
        "colab": {
          "base_uri": "https://localhost:8080/",
          "height": 60
        },
        "id": "O5uNVHyF_mL4",
        "outputId": "60b1d4a4-3960-45e4-e500-2302fc3b0448"
      },
      "execution_count": 9,
      "outputs": [
        {
          "output_type": "display_data",
          "data": {
            "text/plain": [
              "<IPython.core.display.Latex object>"
            ],
            "text/latex": "\\frac{\\partial^2\\ell}{\\partial\\Omega_M\\partial H_0}="
          },
          "metadata": {}
        },
        {
          "output_type": "display_data",
          "data": {
            "text/plain": [
              "34.22928688057407"
            ]
          },
          "metadata": {}
        }
      ]
    },
    {
      "cell_type": "code",
      "source": [
        "cosmo=FlatLambdaCDM(H0=70, Om0=0.3)\n",
        "da_model=cosmo.angular_diameter_distance(z).value\n",
        "chi2_0=np.sum((da_data-da_model)**2/da_err**2)\n",
        "\n",
        "cosmo=FlatLambdaCDM(H0=70+dH, Om0=0.3)\n",
        "da_model=cosmo.angular_diameter_distance(z).value\n",
        "chi2_p=np.sum((da_data-da_model)**2/da_err**2)\n",
        "\n",
        "cosmo=FlatLambdaCDM(H0=70-dH, Om0=0.3)\n",
        "da_model=cosmo.angular_diameter_distance(z).value\n",
        "chi2_m=np.sum((da_data-da_model)**2/da_err**2)\n",
        "\n",
        "dl2_dH2=(chi2_p-2*chi2_0+chi2_m)/dH**2\n",
        "display(Latex(r'\\frac{\\partial^2\\ell}{\\partial H_0^2}='),dl2_dH2)"
      ],
      "metadata": {
        "colab": {
          "base_uri": "https://localhost:8080/",
          "height": 63
        },
        "id": "6IJgu-RtCL0d",
        "outputId": "627991ea-9e11-4781-8290-d40e1fee796e"
      },
      "execution_count": 10,
      "outputs": [
        {
          "output_type": "display_data",
          "data": {
            "text/plain": [
              "<IPython.core.display.Latex object>"
            ],
            "text/latex": "\\frac{\\partial^2\\ell}{\\partial H_0^2}="
          },
          "metadata": {}
        },
        {
          "output_type": "display_data",
          "data": {
            "text/plain": [
              "1.4702876863406182"
            ]
          },
          "metadata": {}
        }
      ]
    },
    {
      "cell_type": "markdown",
      "source": [
        "Construct the Fisher Matrix and the covariance matrix"
      ],
      "metadata": {
        "id": "i3tq3bSlm1yY"
      }
    },
    {
      "cell_type": "code",
      "source": [
        "A=np.zeros((2,2))\n",
        "\n",
        "A[0,0] = 0.5*dl2\n",
        "A[1,1] = 0.5*dl2_dH2\n",
        "A[1,0] = A[0,1] = 0.5*dl2_dOmdH\n",
        "\n",
        "cov=np.linalg.pinv(A)\n",
        "\n",
        "print(A)\n",
        "\n",
        "print(cov)"
      ],
      "metadata": {
        "colab": {
          "base_uri": "https://localhost:8080/"
        },
        "id": "Zm8Vl558FHr7",
        "outputId": "59dee769-7c01-401c-8690-d75bfb3705d0"
      },
      "execution_count": 120,
      "outputs": [
        {
          "output_type": "stream",
          "name": "stdout",
          "text": [
            "[[484.56900708  17.11464344]\n",
            " [ 17.11464344   0.73514384]]\n",
            "[[ 0.01161055 -0.27030134]\n",
            " [-0.27030134  7.65307511]]\n"
          ]
        }
      ]
    },
    {
      "cell_type": "code",
      "source": [
        "from scipy.stats import multivariate_normal\n",
        "\n",
        "fig = plt.figure()\n",
        "# Setting mean of the distribution\n",
        "mean = np.array([0.3,70.])\n",
        "\n",
        "# Generating a Gaussian bivariate distribution\n",
        "# with given mean and covariance matrix\n",
        "distr = multivariate_normal(cov = cov, mean = mean,)\n",
        "\n",
        "# Generating a meshgrid complacent with\n",
        "# the 3-sigma boundary\n",
        "mean_1, mean_2 = mean[0], mean[1]\n",
        "sigma_1, sigma_2 = cov[0,0], cov[1,1]\n",
        "\n",
        "x = np.linspace(mean_1-20*sigma_1, mean_1+20*sigma_1, num=100)\n",
        "y = np.linspace(mean_2-1*sigma_2, mean_2+1*sigma_2, num=100)\n",
        "X, Y = np.meshgrid(x,y)\n",
        "\n",
        "# Generating the density function\n",
        "# for each point in the meshgrid\n",
        "pdf = np.zeros(X.shape)\n",
        "for i in range(X.shape[0]):\n",
        "    for j in range(X.shape[1]):\n",
        "        pdf[i,j] = distr.pdf([X[i,j], Y[i,j]])\n",
        "\n",
        "plt.contourf(X, Y, pdf,)\n",
        "plt.xlabel(r\"$\\Omega_M$\")\n",
        "plt.ylabel(r\"$H_0$\")\n",
        "plt.tight_layout()\n",
        "plt.show()"
      ],
      "metadata": {
        "colab": {
          "base_uri": "https://localhost:8080/",
          "height": 607
        },
        "id": "D9e7VJF7FpVX",
        "outputId": "a67eb74d-7579-40bf-92f6-f31a4493cec3"
      },
      "execution_count": 121,
      "outputs": [
        {
          "output_type": "display_data",
          "data": {
            "text/plain": [
              "<Figure size 1000x600 with 1 Axes>"
            ],
            "image/png": "[encoded data removed]"
          },
          "metadata": {}
        }
      ]
    },
    {
      "cell_type": "code",
      "source": [],
      "metadata": {
        "id": "SLarNgKhIX_o"
      },
      "execution_count": 118,
      "outputs": []
    },
    {
      "cell_type": "code",
      "source": [],
      "metadata": {
        "id": "yD8bLgSHfZ7Q"
      },
      "execution_count": null,
      "outputs": []
    }
  ]
}