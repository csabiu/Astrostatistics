{
  "nbformat": 4,
  "nbformat_minor": 0,
  "metadata": {
    "colab": {
      "provenance": [],
      "authorship_tag": "ABX9TyMi+aFeh9Ft/TDuWD8F9eOY",
      "include_colab_link": true
    },
    "kernelspec": {
      "name": "python3",
      "display_name": "Python 3"
    },
    "language_info": {
      "name": "python"
    }
  },
  "cells": [
    {
      "cell_type": "markdown",
      "metadata": {
        "id": "view-in-github",
        "colab_type": "text"
      },
      "source": [
        "<a href=\"https://colab.research.google.com/github/csabiu/Astrostatistics/blob/main/Astro_coordinates.ipynb\" target=\"_parent\"><img src=\"https://colab.research.google.com/assets/colab-badge.svg\" alt=\"Open In Colab\"/></a>"
      ]
    },
    {
      "cell_type": "markdown",
      "source": [
        "Install some packages and import them"
      ],
      "metadata": {
        "id": "EsPF0lpuXo97"
      }
    },
    {
      "cell_type": "code",
      "source": [
        "pip install astroquery"
      ],
      "metadata": {
        "id": "QB_r1xjgHL9K"
      },
      "execution_count": null,
      "outputs": []
    },
    {
      "cell_type": "code",
      "execution_count": null,
      "metadata": {
        "id": "f_K7tZ-yHIye"
      },
      "outputs": [],
      "source": [
        "import matplotlib as mpl\n",
        "import matplotlib.pyplot as plt\n",
        "import numpy as np\n",
        "from astropy.coordinates import (SkyCoord, Distance, Galactic,\n",
        "                                 EarthLocation, AltAz)\n",
        "import astropy.coordinates as coord\n",
        "from astropy.time import Time\n",
        "from astropy import units as u\n",
        "from astropy.coordinates import AltAz\n",
        "from astropy.io import fits\n",
        "from astropy.table import QTable\n",
        "from astropy.utils.data import download_file\n",
        "from astroquery.gaia import Gaia"
      ]
    },
    {
      "cell_type": "markdown",
      "source": [
        "Define a target object NGC188 - an open star cluster\n",
        "\n",
        "different ways of defining in astropy"
      ],
      "metadata": {
        "id": "8fv453k4YFTo"
      }
    },
    {
      "cell_type": "code",
      "source": [
        "ngc188_center = SkyCoord(11.798*u.deg, 85.244*u.deg, frame='icrs' )\n",
        "ngc188_center"
      ],
      "metadata": {
        "id": "cw6jRNqPMQv_"
      },
      "execution_count": null,
      "outputs": []
    },
    {
      "cell_type": "code",
      "source": [
        "ngc188_center = SkyCoord('00h47m11.5s', '85d14m38s', frame='icrs')\n",
        "ngc188_center"
      ],
      "metadata": {
        "id": "aKilI9EgTjKV"
      },
      "execution_count": null,
      "outputs": []
    },
    {
      "cell_type": "code",
      "source": [
        "ngc188_center = SkyCoord('00:47:11.5 85:14:38', unit=(u.hour, u.deg), frame='icrs')\n",
        "ngc188_center"
      ],
      "metadata": {
        "id": "bPps79wnZ9t4"
      },
      "execution_count": null,
      "outputs": []
    },
    {
      "cell_type": "code",
      "source": [
        "ngc188_center = SkyCoord.from_name('NGC 188')\n",
        "ngc188_center"
      ],
      "metadata": {
        "id": "cK5pDw6UaLhA"
      },
      "execution_count": null,
      "outputs": []
    },
    {
      "cell_type": "markdown",
      "source": [
        "Lets search the GAIA database for stars with 0.5 degrees of NGC188 center"
      ],
      "metadata": {
        "id": "BMruJ3btx_ng"
      }
    },
    {
      "cell_type": "code",
      "source": [
        "Gaia.ROW_LIMIT = 10000  # Set the row limit for returned data\n",
        "\n",
        "job = Gaia.cone_search_async(ngc188_center, radius=0.5*u.deg)\n",
        "ngc188_table = job.get_results()\n",
        "\n",
        "# only keep stars brighter than G=19 magnitude\n",
        "ngc188_table = ngc188_table[ngc188_table['phot_g_mean_mag'] < 19*u.mag]"
      ],
      "metadata": {
        "id": "GQvqKhnca8iP"
      },
      "execution_count": null,
      "outputs": []
    },
    {
      "cell_type": "code",
      "source": [
        "ngc188_table.colnames"
      ],
      "metadata": {
        "id": "6fwPQKD3cZhi"
      },
      "execution_count": null,
      "outputs": []
    },
    {
      "cell_type": "code",
      "source": [
        "cols = [\n",
        "    'source_id',\n",
        "    'ra',\n",
        "    'dec',\n",
        "    'parallax',\n",
        "    'parallax_error',\n",
        "    'pmra',\n",
        "    'pmdec',\n",
        "    'radial_velocity',\n",
        "    'phot_g_mean_mag',\n",
        "    'phot_bp_mean_mag',\n",
        "    'phot_rp_mean_mag'\n",
        "]\n",
        "ngc188_table[cols].write('gaia_results.fits', overwrite=True)\n",
        "\n"
      ],
      "metadata": {
        "id": "Snz0akwEcbjH"
      },
      "execution_count": null,
      "outputs": []
    },
    {
      "cell_type": "code",
      "source": [
        "ngc188_table = QTable.read('gaia_results.fits')\n",
        "len(ngc188_table)"
      ],
      "metadata": {
        "id": "iftBHpEzjPhi"
      },
      "execution_count": null,
      "outputs": []
    },
    {
      "cell_type": "code",
      "source": [
        "ra=ngc188_table['ra']\n",
        "dec=ngc188_table['dec']\n",
        "plt.plot(ra,dec,',')\n",
        "plt.xlabel('RA [deg]')\n",
        "plt.ylabel('Dec [deg]')"
      ],
      "metadata": {
        "id": "LDhSCaPvjRoo"
      },
      "execution_count": null,
      "outputs": []
    },
    {
      "cell_type": "markdown",
      "source": [
        "Can you give an estimate of the distance to NGC188 in units of kpc?"
      ],
      "metadata": {
        "id": "7veg-vnim8D-"
      }
    },
    {
      "cell_type": "code",
      "source": [],
      "metadata": {
        "id": "QWWM8zMmj_bH"
      },
      "execution_count": null,
      "outputs": []
    },
    {
      "cell_type": "code",
      "source": [],
      "metadata": {
        "id": "_0aWsSPJk3cY"
      },
      "execution_count": 1,
      "outputs": []
    },
    {
      "cell_type": "code",
      "source": [
        "def coordinates_aitoff_plot(coords):\n",
        "    fig, ax = plt.subplots(figsize=(10, 4),\n",
        "                           subplot_kw=dict(projection=\"aitoff\"))\n",
        "\n",
        "    sph = coords.spherical\n",
        "    cs = ax.scatter(-sph.lon.wrap_at(180*u.deg).radian,\n",
        "                    sph.lat.radian,\n",
        "                    c=sph.distance.value)\n",
        "\n",
        "    def fmt_func(x, pos):\n",
        "        val = coord.Angle(-x*u.radian).wrap_at(360*u.deg).degree\n",
        "        return f'${val:.0f}' + r'^{\\circ}$'\n",
        "\n",
        "    ticker = mpl.ticker.FuncFormatter(fmt_func)\n",
        "    ax.xaxis.set_major_formatter(ticker)\n",
        "\n",
        "    ax.grid()\n",
        "\n",
        "    cb = fig.colorbar(cs)\n",
        "    cb.set_label('distance [pc]')\n",
        "\n",
        "    return fig, ax\n",
        "\n"
      ],
      "metadata": {
        "id": "nWMmaVIRbcIQ"
      },
      "execution_count": null,
      "outputs": []
    },
    {
      "cell_type": "code",
      "source": [
        "!wget --no-check-certificate https://raw.githubusercontent.com/csabiu/astronomy/main/Cantat-Gaudin-open-clusters.ecsv"
      ],
      "metadata": {
        "id": "LR5HgPPCbi3N"
      },
      "execution_count": null,
      "outputs": []
    },
    {
      "cell_type": "markdown",
      "source": [
        "Load a file of open star clusters\n",
        "\n",
        "You may need to download from guthub and upload to here manually"
      ],
      "metadata": {
        "id": "5-PEfwr1BVLA"
      }
    },
    {
      "cell_type": "code",
      "source": [
        "tbl = QTable.read('Cantat-Gaudin-open-clusters.ecsv')\n",
        "#!head Cantat-Gaudin-open-clusters.ecsv.2\n",
        "#!rm Cantat-Gaudin-open-cluster*"
      ],
      "metadata": {
        "id": "1CLPs8V51_Vx"
      },
      "execution_count": null,
      "outputs": []
    },
    {
      "cell_type": "code",
      "source": [
        "open_cluster_c = SkyCoord(\n",
        "    ra=tbl['ra'],\n",
        "    dec=tbl['dec'],\n",
        "    distance=tbl['distance'],\n",
        "    frame='icrs')\n",
        "len(open_cluster_c)\n",
        "\n"
      ],
      "metadata": {
        "id": "opROC_J51_i7"
      },
      "execution_count": null,
      "outputs": []
    },
    {
      "cell_type": "code",
      "source": [
        "#lets look at the 1st 4 clusters"
      ],
      "metadata": {
        "id": "seh5Ud8d2C57"
      },
      "execution_count": null,
      "outputs": []
    },
    {
      "cell_type": "code",
      "source": [
        "open_cluster_c[:4]"
      ],
      "metadata": {
        "id": "0VTVUpD02Mnf"
      },
      "execution_count": null,
      "outputs": []
    },
    {
      "cell_type": "code",
      "source": [
        "fig, ax = coordinates_aitoff_plot(open_cluster_c)\n",
        "ax.set_xlabel('RA [deg]')\n",
        "ax.set_ylabel('Dec [deg]')"
      ],
      "metadata": {
        "collapsed": true,
        "id": "s4qRIBvL2MZs"
      },
      "execution_count": null,
      "outputs": []
    },
    {
      "cell_type": "markdown",
      "source": [
        "lets translate to Galactic coordinates"
      ],
      "metadata": {
        "id": "nsKCIihi4Tzb"
      }
    },
    {
      "cell_type": "code",
      "source": [
        "open_cluster_gal = open_cluster_c.galactic"
      ],
      "metadata": {
        "id": "Lh_eAl3N2SOm"
      },
      "execution_count": null,
      "outputs": []
    },
    {
      "cell_type": "code",
      "source": [
        "fig, ax = coordinates_aitoff_plot(open_cluster_gal);\n",
        "ax.set_xlabel('Galactic longitude, $l$ [deg]')\n",
        "ax.set_ylabel('Galactic latitude, $b$ [deg]')"
      ],
      "metadata": {
        "id": "uNCJ6Nh14XGX"
      },
      "execution_count": null,
      "outputs": []
    },
    {
      "cell_type": "markdown",
      "source": [
        "Can you give an estimate of the distance to these star clusters using GAIA?\n",
        "Do the distances match?"
      ],
      "metadata": {
        "id": "DPjUiSfAnecU"
      }
    },
    {
      "cell_type": "code",
      "source": [],
      "metadata": {
        "id": "EA0S1qIS4ZsT"
      },
      "execution_count": null,
      "outputs": []
    }
  ]
}